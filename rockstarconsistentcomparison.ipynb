{
 "cells": [
  {
   "cell_type": "code",
   "execution_count": null,
   "metadata": {
    "collapsed": true
   },
   "outputs": [],
   "source": [
    "from satellite_analysis.catalogreaders import rockstarcatalogreader as rockstar\n",
    "from satellite_analysis.catalogreaders import consistentcatalogreader as consistent\n",
    "\n",
    "input_dir = '/Users/user1/documents/VELA07/baserockstar_ascii'\n",
    "input_dir1 = '/Users/user1/documents/VELA07/hlists'\n",
    "\n",
    "rockstar.rockstar_catalog_reader(input_dir)\n",
    "consistent.consistent_catalog_reader(input_dir1)"
   ]
  }
 ],
 "metadata": {
  "kernelspec": {
   "display_name": "Python 3",
   "language": "python",
   "name": "python3"
  },
  "language_info": {
   "codemirror_mode": {
    "name": "ipython",
    "version": 3
   },
   "file_extension": ".py",
   "mimetype": "text/x-python",
   "name": "python",
   "nbconvert_exporter": "python",
   "pygments_lexer": "ipython3",
   "version": "3.6.8"
  }
 },
 "nbformat": 4,
 "nbformat_minor": 2
}
