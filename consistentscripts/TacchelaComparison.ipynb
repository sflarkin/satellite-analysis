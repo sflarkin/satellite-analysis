{
 "cells": [
  {
   "cell_type": "code",
   "execution_count": 18,
   "metadata": {},
   "outputs": [
    {
     "name": "stdout",
     "output_type": "stream",
     "text": [
      "/Users/user1/documents/GEN3/stellarmassrelation/VELA06\n",
      "Stellar Mass 1.18239166000243\n",
      "Mvir 0.9144\n",
      "/Users/user1/documents/GEN3/stellarmassrelation/VELA07\n",
      "Stellar Mass 4.673098991731354\n",
      "Mvir 1.279\n",
      "/Users/user1/documents/GEN3/stellarmassrelation/VELA08\n",
      "Stellar Mass 0.43226137957706917\n",
      "Mvir 0.7995\n",
      "/Users/user1/documents/GEN3/stellarmassrelation/VELA09\n",
      "Stellar Mass 0.8686064043614132\n",
      "Mvir 0.7082\n",
      "/Users/user1/documents/GEN3/stellarmassrelation/VELA10\n",
      "Stellar Mass 0.47166561400542756\n",
      "Mvir 0.3261\n",
      "/Users/user1/documents/GEN3/stellarmassrelation/VELA11\n",
      "Stellar Mass 0.7717720664861073\n",
      "Mvir 0.3793\n",
      "/Users/user1/documents/GEN3/stellarmassrelation/VELA12\n",
      "Stellar Mass 1.4859127780874621\n",
      "Mvir 0.3497\n",
      "/Users/user1/documents/GEN3/stellarmassrelation/VELA13\n",
      "Stellar Mass 0.8039779419765007\n",
      "Mvir 0.6199\n",
      "/Users/user1/documents/GEN3/stellarmassrelation/VELA14\n",
      "Stellar Mass 1.0435107333210252\n",
      "Mvir 0.4485\n",
      "/Users/user1/documents/GEN3/stellarmassrelation/VELA15\n",
      "Stellar Mass 0.40764689405673243\n",
      "Mvir 0.2245\n"
     ]
    }
   ],
   "source": [
    "import yt\n",
    "import glob\n",
    "import numpy as np\n",
    "import matplotlib.pyplot as plt\n",
    "import argparse\n",
    "from mpl_toolkits.axes_grid1 import AxesGrid\n",
    "from satellite_analysis.catalogreaders import consistentcatalogreader as consistent\n",
    "from satellite_analysis.catalogreaders import tomercatalogreader as tomer\n",
    "from satellite_analysis.graphs import stellarmassrelationfindingrvirprojections as rvirprj\n",
    "\n",
    "#need to read all of the data for z=2\n",
    "mvir_rstar = []\n",
    "catalog_dirs = glob.glob('/Users/user1/documents/GEN3/stellarmassrelation/VELA*')\n",
    "\n",
    "for catalog in catalog_dirs:\n",
    "    readfile = open('%s/halomass330.ascii' % catalog)\n",
    "    lines = readfile.readlines()\n",
    "    halomass_lines = []\n",
    "    for line in lines:\n",
    "        halomass_lines.append(line.split())\n",
    "    del halomass_lines[0]\n",
    "    #find the largest halo\n",
    "    count = 0\n",
    "    largestmass = 0\n",
    "    largestindex = 0\n",
    "    while count < (len(halomass_lines)):\n",
    "        if float(halomass_lines[count][2]) > largestmass:\n",
    "            largestmass = float(halomass_lines[count][2])\n",
    "            largestindex = count\n",
    "        count = count + 1\n",
    "    #now extract the data needed for comparison table\n",
    "    Mvir = float(halomass_lines[largestindex][2])/10**12\n",
    "    rvir020 = float(halomass_lines[largestindex][8])/10**10\n",
    "    print(catalog)\n",
    "    print('Stellar Mass', rvir020)\n",
    "    print('Mvir', Mvir)\n",
    "    mvir_rstar.append(Mvir)"
   ]
  },
  {
   "cell_type": "code",
   "execution_count": 17,
   "metadata": {},
   "outputs": [
    {
     "name": "stderr",
     "output_type": "stream",
     "text": [
      "/Users/user1/anaconda3/lib/python3.6/site-packages/satellite_analysis/catalogreaders/tomercatalogreader.py:18: UserWarning: Boolean Series key will be reindexed to match DataFrame index.\n",
      "  cen_gal_cat_s = cen_gal_cat[cen_gal_cat['gen'] == 'VELA_v2'][cen_gal_cat['galaxynumber'] == galaxynumber][cen_gal_cat['type'] == 'Thick']\n"
     ]
    },
    {
     "name": "stdout",
     "output_type": "stream",
     "text": [
      "['100', '110', '120', '130', '140', '150', '160', '170', '180', '190', '200', '210', '220', '230', '240', '250', '260', '270', '280', '290', '300', '310', '320', '330', '340', '350', '360', '370']\n"
     ]
    },
    {
     "name": "stderr",
     "output_type": "stream",
     "text": [
      "/Users/user1/anaconda3/lib/python3.6/site-packages/satellite_analysis/catalogreaders/tomercatalogreader.py:18: UserWarning: Boolean Series key will be reindexed to match DataFrame index.\n",
      "  cen_gal_cat_s = cen_gal_cat[cen_gal_cat['gen'] == 'VELA_v2'][cen_gal_cat['galaxynumber'] == galaxynumber][cen_gal_cat['type'] == 'Thick']\n"
     ]
    },
    {
     "name": "stdout",
     "output_type": "stream",
     "text": [
      "['100', '110', '120', '130', '140', '150', '160', '170', '180', '190', '200', '210', '220', '230', '240', '250', '260', '270', '280', '290', '300', '310', '320', '330', '340', '350', '360', '370', '380', '390', '400', '410', '420', '430', '440', '450', '460', '470', '480', '490', '500', '510', '520', '530', '540']\n"
     ]
    },
    {
     "name": "stderr",
     "output_type": "stream",
     "text": [
      "/Users/user1/anaconda3/lib/python3.6/site-packages/satellite_analysis/catalogreaders/tomercatalogreader.py:18: UserWarning: Boolean Series key will be reindexed to match DataFrame index.\n",
      "  cen_gal_cat_s = cen_gal_cat[cen_gal_cat['gen'] == 'VELA_v2'][cen_gal_cat['galaxynumber'] == galaxynumber][cen_gal_cat['type'] == 'Thick']\n"
     ]
    },
    {
     "name": "stdout",
     "output_type": "stream",
     "text": [
      "['110', '120', '130', '140', '150', '160', '170', '180', '190', '200', '210', '220', '230', '240', '250', '260', '270', '280', '290', '300', '310', '320', '330', '340', '350', '360', '370', '380', '390', '400', '410', '420', '430', '440', '450', '460', '470', '480', '490', '500', '510', '520', '530', '540', '550', '560', '570']\n"
     ]
    },
    {
     "name": "stderr",
     "output_type": "stream",
     "text": [
      "/Users/user1/anaconda3/lib/python3.6/site-packages/satellite_analysis/catalogreaders/tomercatalogreader.py:18: UserWarning: Boolean Series key will be reindexed to match DataFrame index.\n",
      "  cen_gal_cat_s = cen_gal_cat[cen_gal_cat['gen'] == 'VELA_v2'][cen_gal_cat['galaxynumber'] == galaxynumber][cen_gal_cat['type'] == 'Thick']\n"
     ]
    },
    {
     "name": "stdout",
     "output_type": "stream",
     "text": [
      "['100', '110', '120', '130', '140', '150', '160', '180', '190', '200', '210', '220', '230', '240', '250', '260', '270', '280', '290', '300', '310', '320', '330', '340', '350', '360', '370', '380', '390', '400']\n"
     ]
    },
    {
     "name": "stderr",
     "output_type": "stream",
     "text": [
      "/Users/user1/anaconda3/lib/python3.6/site-packages/satellite_analysis/catalogreaders/tomercatalogreader.py:18: UserWarning: Boolean Series key will be reindexed to match DataFrame index.\n",
      "  cen_gal_cat_s = cen_gal_cat[cen_gal_cat['gen'] == 'VELA_v2'][cen_gal_cat['galaxynumber'] == galaxynumber][cen_gal_cat['type'] == 'Thick']\n"
     ]
    },
    {
     "name": "stdout",
     "output_type": "stream",
     "text": [
      "['120', '130', '140', '150', '160', '170', '180', '190', '200', '210', '220', '230', '240', '250', '260', '270', '280', '290', '300', '310', '320', '330', '340', '350', '360', '370', '380', '390', '400', '410', '420', '430', '440', '450', '460', '470', '480', '490', '500', '510', '520', '530', '540', '550', '560']\n"
     ]
    },
    {
     "name": "stderr",
     "output_type": "stream",
     "text": [
      "/Users/user1/anaconda3/lib/python3.6/site-packages/satellite_analysis/catalogreaders/tomercatalogreader.py:18: UserWarning: Boolean Series key will be reindexed to match DataFrame index.\n",
      "  cen_gal_cat_s = cen_gal_cat[cen_gal_cat['gen'] == 'VELA_v2'][cen_gal_cat['galaxynumber'] == galaxynumber][cen_gal_cat['type'] == 'Thick']\n"
     ]
    },
    {
     "name": "stdout",
     "output_type": "stream",
     "text": [
      "['110', '120', '130', '140', '150', '160', '170', '180', '190', '200', '210', '220', '230', '240', '250', '260', '270', '280', '290', '300', '310', '320', '330', '340', '350', '360', '370', '380', '390', '400', '410', '420', '430', '440', '450', '460']\n"
     ]
    },
    {
     "name": "stderr",
     "output_type": "stream",
     "text": [
      "/Users/user1/anaconda3/lib/python3.6/site-packages/satellite_analysis/catalogreaders/tomercatalogreader.py:18: UserWarning: Boolean Series key will be reindexed to match DataFrame index.\n",
      "  cen_gal_cat_s = cen_gal_cat[cen_gal_cat['gen'] == 'VELA_v2'][cen_gal_cat['galaxynumber'] == galaxynumber][cen_gal_cat['type'] == 'Thick']\n"
     ]
    },
    {
     "name": "stdout",
     "output_type": "stream",
     "text": [
      "['110', '120', '130', '140', '150', '160', '170', '180', '190', '200', '210', '220', '230', '240', '250', '260', '270', '280', '290', '300', '310', '320', '330', '340', '350', '360', '370', '380', '390', '400', '410', '420', '430', '440']\n"
     ]
    },
    {
     "name": "stderr",
     "output_type": "stream",
     "text": [
      "/Users/user1/anaconda3/lib/python3.6/site-packages/satellite_analysis/catalogreaders/tomercatalogreader.py:18: UserWarning: Boolean Series key will be reindexed to match DataFrame index.\n",
      "  cen_gal_cat_s = cen_gal_cat[cen_gal_cat['gen'] == 'VELA_v2'][cen_gal_cat['galaxynumber'] == galaxynumber][cen_gal_cat['type'] == 'Thick']\n"
     ]
    },
    {
     "name": "stdout",
     "output_type": "stream",
     "text": [
      "['110', '120', '130', '140', '150', '160', '170', '180', '190', '200', '210', '220', '230', '240', '250', '260', '270', '280', '290', '300', '310', '320', '330', '340', '350', '360', '370', '380', '390', '400']\n"
     ]
    },
    {
     "name": "stderr",
     "output_type": "stream",
     "text": [
      "/Users/user1/anaconda3/lib/python3.6/site-packages/satellite_analysis/catalogreaders/tomercatalogreader.py:18: UserWarning: Boolean Series key will be reindexed to match DataFrame index.\n",
      "  cen_gal_cat_s = cen_gal_cat[cen_gal_cat['gen'] == 'VELA_v2'][cen_gal_cat['galaxynumber'] == galaxynumber][cen_gal_cat['type'] == 'Thick']\n"
     ]
    },
    {
     "name": "stdout",
     "output_type": "stream",
     "text": [
      "['130', '140', '150', '160', '170', '180', '190', '200', '210', '220', '230', '240', '250', '260', '270', '280', '290', '300', '310', '320', '330', '340', '350', '360', '370', '380', '390', '400', '410']\n"
     ]
    },
    {
     "name": "stderr",
     "output_type": "stream",
     "text": [
      "/Users/user1/anaconda3/lib/python3.6/site-packages/satellite_analysis/catalogreaders/tomercatalogreader.py:18: UserWarning: Boolean Series key will be reindexed to match DataFrame index.\n",
      "  cen_gal_cat_s = cen_gal_cat[cen_gal_cat['gen'] == 'VELA_v2'][cen_gal_cat['galaxynumber'] == galaxynumber][cen_gal_cat['type'] == 'Thick']\n"
     ]
    },
    {
     "name": "stdout",
     "output_type": "stream",
     "text": [
      "['140', '150', '160', '170', '180', '190', '200', '210', '220', '230', '240', '250', '260', '270', '280', '290', '300', '310', '320', '330', '340', '350', '360', '370', '380', '390', '400', '410', '420', '430', '440', '450', '460', '470', '480', '490', '500', '510', '520', '530', '540', '550', '560']\n"
     ]
    }
   ],
   "source": [
    "from satellite_analysis.catalogreaders import tomercatalogreader as tomer\n",
    "for string in ['06', '07', '08', '09', '10', '11', '12', '13', '14', '15']:\n",
    "    tomer.read_tomer(string)\n",
    "    tomer_scales = [str(scale)[2:5] for scale in tomer.tomer_list['aexpn'].tolist()]\n",
    "    #r_vir_tomer = tomer.tomer_list['r_vir[kpc]'].tolist()\n",
    "    #Mvir_tomer = tomer.tomer_list['M_rvir[Msun]'].tolist()\n",
    "    #Mstar_tomer = tomer.tomer_list['Mstars(0.2rvir)'].tolist()\n",
    "    print(tomer_scales)\n",
    "    #print(r_vir_tomer[23])\n",
    "    #print(Mvir_tomer[23])\n",
    "    #print(Mstar_tomer[23])"
   ]
  },
  {
   "cell_type": "code",
   "execution_count": 66,
   "metadata": {},
   "outputs": [
    {
     "name": "stderr",
     "output_type": "stream",
     "text": [
      "/Users/user1/anaconda3/lib/python3.6/site-packages/satellite_analysis/catalogreaders/tomercatalogreader.py:18: UserWarning: Boolean Series key will be reindexed to match DataFrame index.\n",
      "  cen_gal_cat_s = cen_gal_cat[cen_gal_cat['gen'] == 'VELA_v2'][cen_gal_cat['galaxynumber'] == galaxynumber][cen_gal_cat['type'] == 'Thick']\n"
     ]
    },
    {
     "name": "stdout",
     "output_type": "stream",
     "text": [
      "Consistent File Indices: ['100', '110', '120', '130', '140', '150', '160', '170', '180', '190', '200', '210', '220', '230', '240', '250', '260', '270', '280', '290', '300', '310', '320', '330', '340', '350', '360', '370', '380', '390', '400', '410', '420', '430', '440', '450', '460', '470', '480', '490', '500', '510', '520', '530', '540', '550', '560', '570', '571', '580', '590', '601', '610', '620', '621', '630']\n",
      "\n",
      "Using Indices: [0, 1, 2, 3, 4, 5, 6, 7, 8, 9, 10, 11, 12, 13, 14, 15, 16, 17, 18, 19, 20, 21, 22, 23, 24, 25, 26, 27, 28, 29, 30, 31, 32, 33, 34, 35, 36, 37, 38, 39, 40, 41, 42, 43, 44, 45, 46, 47, 48, 49, 50, 51, 52, 53, 54, 55]\n",
      "\n",
      "Number of Halos found for snapshot 0 : 1\n",
      "Number of Halos found for snapshot 1 : 5\n",
      "Number of Halos found for snapshot 2 : 24\n",
      "Number of Halos found for snapshot 3 : 28\n",
      "Number of Halos found for snapshot 4 : 41\n",
      "Number of Halos found for snapshot 5 : 68\n",
      "Number of Halos found for snapshot 6 : 90\n",
      "Number of Halos found for snapshot 7 : 74\n",
      "Number of Halos found for snapshot 8 : 98\n",
      "Number of Halos found for snapshot 9 : 138\n",
      "Number of Halos found for snapshot 10 : 148\n",
      "Number of Halos found for snapshot 11 : 110\n",
      "Number of Halos found for snapshot 12 : 104\n",
      "Number of Halos found for snapshot 13 : 113\n",
      "Number of Halos found for snapshot 14 : 111\n",
      "Number of Halos found for snapshot 15 : 120\n",
      "Number of Halos found for snapshot 16 : 122\n",
      "Number of Halos found for snapshot 17 : 120\n",
      "Number of Halos found for snapshot 18 : 122\n",
      "Number of Halos found for snapshot 19 : 119\n",
      "Number of Halos found for snapshot 20 : 130\n",
      "Number of Halos found for snapshot 21 : 129\n",
      "Number of Halos found for snapshot 22 : 128\n",
      "Number of Halos found for snapshot 23 : 132\n",
      "Number of Halos found for snapshot 24 : 135\n",
      "Number of Halos found for snapshot 25 : 127\n",
      "Number of Halos found for snapshot 26 : 131\n",
      "Number of Halos found for snapshot 27 : 134\n",
      "Number of Halos found for snapshot 28 : 134\n",
      "Number of Halos found for snapshot 29 : 133\n",
      "Number of Halos found for snapshot 30 : 131\n",
      "Number of Halos found for snapshot 31 : 131\n",
      "Number of Halos found for snapshot 32 : 133\n",
      "Number of Halos found for snapshot 33 : 139\n",
      "Number of Halos found for snapshot 34 : 142\n",
      "Number of Halos found for snapshot 35 : 153\n",
      "Number of Halos found for snapshot 36 : 159\n",
      "Number of Halos found for snapshot 37 : 160\n",
      "Number of Halos found for snapshot 38 : 170\n",
      "Number of Halos found for snapshot 39 : 176\n",
      "Number of Halos found for snapshot 40 : 177\n",
      "Number of Halos found for snapshot 41 : 174\n",
      "Number of Halos found for snapshot 42 : 172\n",
      "Number of Halos found for snapshot 43 : 167\n",
      "Number of Halos found for snapshot 44 : 168\n",
      "Number of Halos found for snapshot 45 : 162\n",
      "Number of Halos found for snapshot 46 : 151\n",
      "Number of Halos found for snapshot 47 : 158\n",
      "Number of Halos found for snapshot 48 : 158\n",
      "Number of Halos found for snapshot 49 : 153\n",
      "Number of Halos found for snapshot 50 : 153\n",
      "Number of Halos found for snapshot 51 : 154\n",
      "Number of Halos found for snapshot 52 : 151\n",
      "Number of Halos found for snapshot 53 : 154\n",
      "Number of Halos found for snapshot 54 : 152\n",
      "Number of Halos found for snapshot 55 : 156\n"
     ]
    }
   ],
   "source": [
    "tomer.read_tomer(VELA_numbers[8])\n",
    "tomer_scales = [str(scale)[2:5] for scale in tomer.tomer_list['aexpn'].tolist()]\n",
    "r_vir_tomer = tomer.tomer_list['r_vir[kpc]'].tolist()\n",
    "\n",
    "consistent.consistent_catalog_reader(input_dirs[8], subhalos='True')"
   ]
  },
  {
   "cell_type": "code",
   "execution_count": 68,
   "metadata": {
    "scrolled": false
   },
   "outputs": [
    {
     "name": "stdout",
     "output_type": "stream",
     "text": [
      "<class 'int'>\n",
      "<class 'float'>\n",
      "Could not find corresponding Tomer Snapshot Data for snap 100\n",
      "Could not find corresponding Tomer Snapshot Data for snap 110\n",
      "Could not find corresponding Tomer Snapshot Data for snap 120\n",
      "\n",
      "[0.423331558702, 0.49718832975500005, 0.49791520833999997]\n",
      "<class 'list'>\n",
      "<class 'float'>\n",
      "tomer 9.0\n",
      "consistent 231.979\n",
      "0.13\n",
      "12.87 30.157270000000004\n",
      "\n",
      "[0.425562620225, 0.497233510065, 0.498394191313]\n",
      "<class 'list'>\n",
      "<class 'float'>\n",
      "tomer 11.75\n",
      "consistent 230.716\n",
      "0.14\n",
      "16.8025 32.30024\n",
      "\n",
      "[0.427318453785, 0.497130751633, 0.49885088205600003]\n",
      "<class 'list'>\n",
      "<class 'float'>\n",
      "tomer 13.25\n",
      "consistent 225.071\n",
      "0.15\n",
      "18.947499999999998 33.76065\n",
      "\n",
      "[0.429316431284, 0.497116386894, 0.49913406372100005]\n",
      "<class 'list'>\n",
      "<class 'float'>\n",
      "tomer 14.75\n",
      "consistent 211.22\n",
      "0.16\n",
      "21.092499999999998 33.7952\n",
      "\n",
      "[0.431279540069, 0.496972560878, 0.49932575226099996]\n",
      "<class 'list'>\n",
      "<class 'float'>\n",
      "tomer 16.25\n",
      "consistent 223.775\n",
      "0.17\n",
      "23.2375 38.04175\n",
      "\n",
      "[0.433345884089, 0.49677330251, 0.499558567999]\n",
      "<class 'list'>\n",
      "<class 'float'>\n",
      "tomer 17.25\n",
      "consistent 208.383\n",
      "0.18\n",
      "24.6675 37.50894\n",
      "\n",
      "[0.435339897875, 0.496654152869, 0.49983114004199997]\n",
      "<class 'list'>\n",
      "<class 'float'>\n",
      "tomer 18.5\n",
      "consistent 196.184\n",
      "0.19\n",
      "26.455 37.27496\n",
      "\n",
      "[0.437364935836, 0.496540308, 0.500038206575]\n",
      "<class 'list'>\n",
      "<class 'float'>\n",
      "tomer 19.75\n",
      "consistent 187.55\n",
      "0.2\n",
      "28.2425 37.510000000000005\n",
      "\n",
      "[0.4394864142, 0.49625945091000007, 0.500224709507]\n",
      "<class 'list'>\n",
      "<class 'float'>\n",
      "tomer 21.25\n",
      "consistent 209.678\n",
      "0.21\n",
      "30.3875 44.032379999999996\n",
      "\n",
      "[0.441596239808, 0.49599385261699996, 0.500363111495]\n",
      "<class 'list'>\n",
      "<class 'float'>\n",
      "tomer 24.0\n",
      "consistent 208.62\n",
      "0.22\n",
      "34.32 45.8964\n",
      "\n",
      "[0.443706393239, 0.49570024013700004, 0.500391542914]\n",
      "<class 'list'>\n",
      "<class 'float'>\n",
      "tomer 29.25\n",
      "consistent 201.235\n",
      "0.23\n",
      "41.8275 46.28405000000001\n",
      "\n",
      "[0.445814490289, 0.495220839978, 0.5003926157949999]\n",
      "<class 'list'>\n",
      "<class 'float'>\n",
      "tomer 33.25\n",
      "consistent 201.014\n",
      "0.24\n",
      "47.5475 48.24336\n",
      "\n",
      "[0.44755619764300003, 0.494563341143, 0.5006731748600001]\n",
      "<class 'list'>\n",
      "<class 'float'>\n",
      "tomer 38.75\n",
      "consistent 203.497\n",
      "0.25\n",
      "55.412499999999994 50.87425\n",
      "\n",
      "[0.449004530907, 0.49428004026699995, 0.500707507134]\n",
      "<class 'list'>\n",
      "<class 'float'>\n",
      "tomer 45.25\n",
      "consistent 202.484\n",
      "0.26\n",
      "64.7075 52.64584000000001\n",
      "\n",
      "[0.450529128316, 0.49443191289899996, 0.500346243384]\n",
      "<class 'list'>\n",
      "<class 'float'>\n",
      "tomer 49.25\n",
      "consistent 201.478\n",
      "0.27\n",
      "70.4275 54.399060000000006\n",
      "\n",
      "[0.45230290293799996, 0.49443167448299996, 0.50027680397]\n",
      "<class 'list'>\n",
      "<class 'float'>\n",
      "tomer 52.75\n",
      "consistent 200.262\n",
      "0.28\n",
      "75.43249999999999 56.07336000000001\n",
      "\n",
      "[0.454428613186, 0.494795441628, 0.5003447532649999]\n",
      "<class 'list'>\n",
      "<class 'float'>\n",
      "tomer 56.75\n",
      "consistent 199.222\n",
      "0.29\n",
      "81.1525 57.77438\n",
      "\n",
      "[0.456531316042, 0.495139956476, 0.5005484819380001]\n",
      "<class 'list'>\n",
      "<class 'float'>\n",
      "tomer 60.0\n",
      "consistent 198.096\n",
      "0.3\n",
      "85.8 59.428799999999995\n",
      "\n",
      "[0.458170861007, 0.49496459961000006, 0.500376343729]\n",
      "<class 'list'>\n",
      "<class 'float'>\n",
      "tomer 65.25\n",
      "consistent 197.66\n",
      "0.31\n",
      "93.30749999999999 61.2746\n",
      "\n",
      "[0.459963560105, 0.49466615915299994, 0.500032186508]\n",
      "<class 'list'>\n",
      "<class 'float'>\n",
      "tomer 70.25\n",
      "consistent 197.468\n",
      "0.32\n",
      "100.4575 63.18976\n",
      "\n",
      "[0.46154376864600005, 0.494577050211, 0.499891459941]\n",
      "<class 'list'>\n",
      "<class 'float'>\n",
      "tomer 76.5\n",
      "consistent 197.1\n",
      "0.33\n",
      "109.395 65.043\n",
      "\n",
      "[0.463162332773, 0.494665026665, 0.499736130238]\n",
      "<class 'list'>\n",
      "<class 'float'>\n",
      "tomer 80.75\n",
      "consistent 196.733\n",
      "0.34\n",
      "115.4725 66.88922000000001\n",
      "\n",
      "[0.464524269102, 0.494713366033, 0.499610960484]\n",
      "<class 'list'>\n",
      "<class 'float'>\n",
      "tomer 84.0\n",
      "consistent 196.388\n",
      "0.35\n",
      "120.11999999999999 68.7358\n",
      "\n",
      "[0.465666830538, 0.494866490364, 0.49961245060000004]\n",
      "<class 'list'>\n",
      "<class 'float'>\n",
      "tomer 85.75\n",
      "consistent 195.719\n",
      "0.36\n",
      "122.62249999999999 70.45884\n",
      "\n",
      "[0.466589421034, 0.49501079321, 0.49961179494900004]\n",
      "<class 'list'>\n",
      "<class 'float'>\n",
      "tomer 86.0\n",
      "consistent 194.906\n",
      "0.37\n",
      "122.97999999999999 72.11522000000001\n",
      "\n",
      "[0.46753144264300006, 0.4951305389399999, 0.499650418758]\n",
      "<class 'list'>\n",
      "<class 'float'>\n",
      "tomer 85.5\n",
      "consistent 194.074\n",
      "0.38\n",
      "122.265 73.74812\n",
      "\n",
      "[0.468439698219, 0.495240509511, 0.499688148498]\n",
      "<class 'list'>\n",
      "<class 'float'>\n",
      "tomer 85.5\n",
      "consistent 193.355\n",
      "0.39\n",
      "122.265 75.40845\n",
      "\n",
      "[0.469357043505, 0.495344996452, 0.499720990658]\n",
      "<class 'list'>\n",
      "<class 'float'>\n",
      "tomer 85.75\n",
      "consistent 192.515\n",
      "0.4\n",
      "122.62249999999999 77.006\n",
      "\n",
      "[0.470234811306, 0.49542552232799997, 0.49974513053900005]\n",
      "<class 'list'>\n",
      "<class 'float'>\n",
      "tomer 86.25\n",
      "consistent 191.436\n",
      "0.41\n",
      "123.33749999999999 78.48876\n",
      "Could not find corresponding Tomer Snapshot Data for snap 420\n",
      "Could not find corresponding Tomer Snapshot Data for snap 430\n",
      "Could not find corresponding Tomer Snapshot Data for snap 440\n",
      "Could not find corresponding Tomer Snapshot Data for snap 450\n",
      "Could not find corresponding Tomer Snapshot Data for snap 460\n",
      "Could not find corresponding Tomer Snapshot Data for snap 470\n",
      "Could not find corresponding Tomer Snapshot Data for snap 480\n",
      "Could not find corresponding Tomer Snapshot Data for snap 490\n",
      "Could not find corresponding Tomer Snapshot Data for snap 500\n",
      "Could not find corresponding Tomer Snapshot Data for snap 510\n",
      "Could not find corresponding Tomer Snapshot Data for snap 520\n",
      "Could not find corresponding Tomer Snapshot Data for snap 530\n",
      "Could not find corresponding Tomer Snapshot Data for snap 540\n",
      "Could not find corresponding Tomer Snapshot Data for snap 550\n",
      "Could not find corresponding Tomer Snapshot Data for snap 560\n",
      "Could not find corresponding Tomer Snapshot Data for snap 570\n",
      "Could not find corresponding Tomer Snapshot Data for snap 571\n",
      "Could not find corresponding Tomer Snapshot Data for snap 580\n",
      "Could not find corresponding Tomer Snapshot Data for snap 590\n",
      "Could not find corresponding Tomer Snapshot Data for snap 601\n",
      "Could not find corresponding Tomer Snapshot Data for snap 610\n",
      "Could not find corresponding Tomer Snapshot Data for snap 620\n",
      "Could not find corresponding Tomer Snapshot Data for snap 621\n",
      "Could not find corresponding Tomer Snapshot Data for snap 630\n"
     ]
    }
   ],
   "source": [
    "print(type(0))\n",
    "print(type(0.0))\n",
    "x_tomer = tomer.tomer_list['center[0](code)'].tolist()\n",
    "y_tomer = tomer.tomer_list['center[1](code)'].tolist()\n",
    "z_tomer = tomer.tomer_list['center[2](code)'].tolist()\n",
    "\n",
    "#tomer_center = [x_tomer[tomer_number[0]], y_tomer[tomer_number[0]], z_tomer[tomer_number[0]]]\n",
    "\n",
    "for index in consistent.snapshot_index:\n",
    "        scale_check = consistent.consistent_file_index[index]\n",
    "        tomer_number = [pos for pos, number in enumerate(tomer_scales) if number == scale_check]\n",
    "        if tomer_number == [] or len(tomer_number) > 1:\n",
    "            print('Could not find corresponding Tomer Snapshot Data for snap', scale_check)\n",
    "        else:\n",
    "            print('')\n",
    "            tomer_rvir = r_vir_tomer[tomer_number[0]]\n",
    "            tomer_center = [x_tomer[tomer_number[0]], y_tomer[tomer_number[0]], z_tomer[tomer_number[0]]]\n",
    "            print(tomer_center)\n",
    "            print(type(tomer_center))\n",
    "            print(type(tomer_rvir))\n",
    "            consistent_rvir = float(consistent.halo_data_largest[index][0][0][11])\n",
    "            print('tomer', tomer_rvir)\n",
    "            print('consistent', consistent_rvir)\n",
    "            print(float(scale_check)/1000)\n",
    "            print(tomer_rvir*1.43, consistent_rvir*(float(scale_check)/1000))"
   ]
  },
  {
   "cell_type": "code",
   "execution_count": 50,
   "metadata": {
    "scrolled": false
   },
   "outputs": [
    {
     "name": "stdout",
     "output_type": "stream",
     "text": [
      "Finding Values for directory /Users/user1/documents/GEN3/VELA06/hlists\n",
      "Using VELA number 06\n"
     ]
    },
    {
     "ename": "KeyboardInterrupt",
     "evalue": "",
     "output_type": "error",
     "traceback": [
      "\u001b[0;31m---------------------------------------------------------------------------\u001b[0m",
      "\u001b[0;31mModuleNotFoundError\u001b[0m                       Traceback (most recent call last)",
      "\u001b[0;32m~/anaconda3/lib/python3.6/site-packages/pandas/io/pickle.py\u001b[0m in \u001b[0;36mtry_read\u001b[0;34m(path, encoding)\u001b[0m\n\u001b[1;32m    165\u001b[0m                 \u001b[0mwarnings\u001b[0m\u001b[0;34m.\u001b[0m\u001b[0msimplefilter\u001b[0m\u001b[0;34m(\u001b[0m\u001b[0;34m\"ignore\"\u001b[0m\u001b[0;34m,\u001b[0m \u001b[0mWarning\u001b[0m\u001b[0;34m)\u001b[0m\u001b[0;34m\u001b[0m\u001b[0;34m\u001b[0m\u001b[0m\n\u001b[0;32m--> 166\u001b[0;31m                 \u001b[0;32mreturn\u001b[0m \u001b[0mread_wrapper\u001b[0m\u001b[0;34m(\u001b[0m\u001b[0;32mlambda\u001b[0m \u001b[0mf\u001b[0m\u001b[0;34m:\u001b[0m \u001b[0mpkl\u001b[0m\u001b[0;34m.\u001b[0m\u001b[0mload\u001b[0m\u001b[0;34m(\u001b[0m\u001b[0mf\u001b[0m\u001b[0;34m)\u001b[0m\u001b[0;34m)\u001b[0m\u001b[0;34m\u001b[0m\u001b[0;34m\u001b[0m\u001b[0m\n\u001b[0m\u001b[1;32m    167\u001b[0m         \u001b[0;32mexcept\u001b[0m \u001b[0mException\u001b[0m\u001b[0;34m:\u001b[0m  \u001b[0;31m# noqa: E722\u001b[0m\u001b[0;34m\u001b[0m\u001b[0;34m\u001b[0m\u001b[0m\n",
      "\u001b[0;32m~/anaconda3/lib/python3.6/site-packages/pandas/io/pickle.py\u001b[0m in \u001b[0;36mread_wrapper\u001b[0;34m(func)\u001b[0m\n\u001b[1;32m    147\u001b[0m         \u001b[0;32mtry\u001b[0m\u001b[0;34m:\u001b[0m\u001b[0;34m\u001b[0m\u001b[0;34m\u001b[0m\u001b[0m\n\u001b[0;32m--> 148\u001b[0;31m             \u001b[0;32mreturn\u001b[0m \u001b[0mfunc\u001b[0m\u001b[0;34m(\u001b[0m\u001b[0mf\u001b[0m\u001b[0;34m)\u001b[0m\u001b[0;34m\u001b[0m\u001b[0;34m\u001b[0m\u001b[0m\n\u001b[0m\u001b[1;32m    149\u001b[0m         \u001b[0;32mfinally\u001b[0m\u001b[0;34m:\u001b[0m\u001b[0;34m\u001b[0m\u001b[0;34m\u001b[0m\u001b[0m\n",
      "\u001b[0;32m~/anaconda3/lib/python3.6/site-packages/pandas/io/pickle.py\u001b[0m in \u001b[0;36m<lambda>\u001b[0;34m(f)\u001b[0m\n\u001b[1;32m    165\u001b[0m                 \u001b[0mwarnings\u001b[0m\u001b[0;34m.\u001b[0m\u001b[0msimplefilter\u001b[0m\u001b[0;34m(\u001b[0m\u001b[0;34m\"ignore\"\u001b[0m\u001b[0;34m,\u001b[0m \u001b[0mWarning\u001b[0m\u001b[0;34m)\u001b[0m\u001b[0;34m\u001b[0m\u001b[0;34m\u001b[0m\u001b[0m\n\u001b[0;32m--> 166\u001b[0;31m                 \u001b[0;32mreturn\u001b[0m \u001b[0mread_wrapper\u001b[0m\u001b[0;34m(\u001b[0m\u001b[0;32mlambda\u001b[0m \u001b[0mf\u001b[0m\u001b[0;34m:\u001b[0m \u001b[0mpkl\u001b[0m\u001b[0;34m.\u001b[0m\u001b[0mload\u001b[0m\u001b[0;34m(\u001b[0m\u001b[0mf\u001b[0m\u001b[0;34m)\u001b[0m\u001b[0;34m)\u001b[0m\u001b[0;34m\u001b[0m\u001b[0;34m\u001b[0m\u001b[0m\n\u001b[0m\u001b[1;32m    167\u001b[0m         \u001b[0;32mexcept\u001b[0m \u001b[0mException\u001b[0m\u001b[0;34m:\u001b[0m  \u001b[0;31m# noqa: E722\u001b[0m\u001b[0;34m\u001b[0m\u001b[0;34m\u001b[0m\u001b[0m\n",
      "\u001b[0;31mModuleNotFoundError\u001b[0m: No module named 'pandas.indexes'",
      "\nDuring handling of the above exception, another exception occurred:\n",
      "\u001b[0;31mUnicodeDecodeError\u001b[0m                        Traceback (most recent call last)",
      "\u001b[0;32m~/anaconda3/lib/python3.6/site-packages/pandas/io/pickle.py\u001b[0m in \u001b[0;36mtry_read\u001b[0;34m(path, encoding)\u001b[0m\n\u001b[1;32m    172\u001b[0m                 return read_wrapper(\n\u001b[0;32m--> 173\u001b[0;31m                     lambda f: pc.load(f, encoding=encoding, compat=False))\n\u001b[0m\u001b[1;32m    174\u001b[0m             \u001b[0;31m# compat pickle\u001b[0m\u001b[0;34m\u001b[0m\u001b[0;34m\u001b[0m\u001b[0;34m\u001b[0m\u001b[0m\n",
      "\u001b[0;32m~/anaconda3/lib/python3.6/site-packages/pandas/io/pickle.py\u001b[0m in \u001b[0;36mread_wrapper\u001b[0;34m(func)\u001b[0m\n\u001b[1;32m    147\u001b[0m         \u001b[0;32mtry\u001b[0m\u001b[0;34m:\u001b[0m\u001b[0;34m\u001b[0m\u001b[0;34m\u001b[0m\u001b[0m\n\u001b[0;32m--> 148\u001b[0;31m             \u001b[0;32mreturn\u001b[0m \u001b[0mfunc\u001b[0m\u001b[0;34m(\u001b[0m\u001b[0mf\u001b[0m\u001b[0;34m)\u001b[0m\u001b[0;34m\u001b[0m\u001b[0;34m\u001b[0m\u001b[0m\n\u001b[0m\u001b[1;32m    149\u001b[0m         \u001b[0;32mfinally\u001b[0m\u001b[0;34m:\u001b[0m\u001b[0;34m\u001b[0m\u001b[0;34m\u001b[0m\u001b[0m\n",
      "\u001b[0;32m~/anaconda3/lib/python3.6/site-packages/pandas/io/pickle.py\u001b[0m in \u001b[0;36m<lambda>\u001b[0;34m(f)\u001b[0m\n\u001b[1;32m    172\u001b[0m                 return read_wrapper(\n\u001b[0;32m--> 173\u001b[0;31m                     lambda f: pc.load(f, encoding=encoding, compat=False))\n\u001b[0m\u001b[1;32m    174\u001b[0m             \u001b[0;31m# compat pickle\u001b[0m\u001b[0;34m\u001b[0m\u001b[0;34m\u001b[0m\u001b[0;34m\u001b[0m\u001b[0m\n",
      "\u001b[0;32m~/anaconda3/lib/python3.6/site-packages/pandas/compat/pickle_compat.py\u001b[0m in \u001b[0;36mload\u001b[0;34m(fh, encoding, compat, is_verbose)\u001b[0m\n\u001b[1;32m    226\u001b[0m \u001b[0;34m\u001b[0m\u001b[0m\n\u001b[0;32m--> 227\u001b[0;31m         \u001b[0;32mreturn\u001b[0m \u001b[0mup\u001b[0m\u001b[0;34m.\u001b[0m\u001b[0mload\u001b[0m\u001b[0;34m(\u001b[0m\u001b[0;34m)\u001b[0m\u001b[0;34m\u001b[0m\u001b[0;34m\u001b[0m\u001b[0m\n\u001b[0m\u001b[1;32m    228\u001b[0m     \u001b[0;32mexcept\u001b[0m \u001b[0;34m(\u001b[0m\u001b[0mValueError\u001b[0m\u001b[0;34m,\u001b[0m \u001b[0mTypeError\u001b[0m\u001b[0;34m)\u001b[0m\u001b[0;34m:\u001b[0m\u001b[0;34m\u001b[0m\u001b[0;34m\u001b[0m\u001b[0m\n",
      "\u001b[0;32m~/anaconda3/lib/python3.6/pickle.py\u001b[0m in \u001b[0;36mload\u001b[0;34m(self)\u001b[0m\n\u001b[1;32m   1049\u001b[0m                 \u001b[0;32massert\u001b[0m \u001b[0misinstance\u001b[0m\u001b[0;34m(\u001b[0m\u001b[0mkey\u001b[0m\u001b[0;34m,\u001b[0m \u001b[0mbytes_types\u001b[0m\u001b[0;34m)\u001b[0m\u001b[0;34m\u001b[0m\u001b[0;34m\u001b[0m\u001b[0m\n\u001b[0;32m-> 1050\u001b[0;31m                 \u001b[0mdispatch\u001b[0m\u001b[0;34m[\u001b[0m\u001b[0mkey\u001b[0m\u001b[0;34m[\u001b[0m\u001b[0;36m0\u001b[0m\u001b[0;34m]\u001b[0m\u001b[0;34m]\u001b[0m\u001b[0;34m(\u001b[0m\u001b[0mself\u001b[0m\u001b[0;34m)\u001b[0m\u001b[0;34m\u001b[0m\u001b[0;34m\u001b[0m\u001b[0m\n\u001b[0m\u001b[1;32m   1051\u001b[0m         \u001b[0;32mexcept\u001b[0m \u001b[0m_Stop\u001b[0m \u001b[0;32mas\u001b[0m \u001b[0mstopinst\u001b[0m\u001b[0;34m:\u001b[0m\u001b[0;34m\u001b[0m\u001b[0;34m\u001b[0m\u001b[0m\n",
      "\u001b[0;32m~/anaconda3/lib/python3.6/pickle.py\u001b[0m in \u001b[0;36mload_binstring\u001b[0;34m(self)\u001b[0m\n\u001b[1;32m   1183\u001b[0m         \u001b[0mdata\u001b[0m \u001b[0;34m=\u001b[0m \u001b[0mself\u001b[0m\u001b[0;34m.\u001b[0m\u001b[0mread\u001b[0m\u001b[0;34m(\u001b[0m\u001b[0mlen\u001b[0m\u001b[0;34m)\u001b[0m\u001b[0;34m\u001b[0m\u001b[0;34m\u001b[0m\u001b[0m\n\u001b[0;32m-> 1184\u001b[0;31m         \u001b[0mself\u001b[0m\u001b[0;34m.\u001b[0m\u001b[0mappend\u001b[0m\u001b[0;34m(\u001b[0m\u001b[0mself\u001b[0m\u001b[0;34m.\u001b[0m\u001b[0m_decode_string\u001b[0m\u001b[0;34m(\u001b[0m\u001b[0mdata\u001b[0m\u001b[0;34m)\u001b[0m\u001b[0;34m)\u001b[0m\u001b[0;34m\u001b[0m\u001b[0;34m\u001b[0m\u001b[0m\n\u001b[0m\u001b[1;32m   1185\u001b[0m     \u001b[0mdispatch\u001b[0m\u001b[0;34m[\u001b[0m\u001b[0mBINSTRING\u001b[0m\u001b[0;34m[\u001b[0m\u001b[0;36m0\u001b[0m\u001b[0;34m]\u001b[0m\u001b[0;34m]\u001b[0m \u001b[0;34m=\u001b[0m \u001b[0mload_binstring\u001b[0m\u001b[0;34m\u001b[0m\u001b[0;34m\u001b[0m\u001b[0m\n",
      "\u001b[0;32m~/anaconda3/lib/python3.6/pickle.py\u001b[0m in \u001b[0;36m_decode_string\u001b[0;34m(self, value)\u001b[0m\n\u001b[1;32m   1165\u001b[0m         \u001b[0;32melse\u001b[0m\u001b[0;34m:\u001b[0m\u001b[0;34m\u001b[0m\u001b[0;34m\u001b[0m\u001b[0m\n\u001b[0;32m-> 1166\u001b[0;31m             \u001b[0;32mreturn\u001b[0m \u001b[0mvalue\u001b[0m\u001b[0;34m.\u001b[0m\u001b[0mdecode\u001b[0m\u001b[0;34m(\u001b[0m\u001b[0mself\u001b[0m\u001b[0;34m.\u001b[0m\u001b[0mencoding\u001b[0m\u001b[0;34m,\u001b[0m \u001b[0mself\u001b[0m\u001b[0;34m.\u001b[0m\u001b[0merrors\u001b[0m\u001b[0;34m)\u001b[0m\u001b[0;34m\u001b[0m\u001b[0;34m\u001b[0m\u001b[0m\n\u001b[0m\u001b[1;32m   1167\u001b[0m \u001b[0;34m\u001b[0m\u001b[0m\n",
      "\u001b[0;31mUnicodeDecodeError\u001b[0m: 'ascii' codec can't decode byte 0xdf in position 1: ordinal not in range(128)",
      "\nDuring handling of the above exception, another exception occurred:\n",
      "\u001b[0;31mUnicodeDecodeError\u001b[0m                        Traceback (most recent call last)",
      "\u001b[0;32m~/anaconda3/lib/python3.6/site-packages/pandas/io/pickle.py\u001b[0m in \u001b[0;36mread_pickle\u001b[0;34m(path, compression)\u001b[0m\n\u001b[1;32m    178\u001b[0m     \u001b[0;32mtry\u001b[0m\u001b[0;34m:\u001b[0m\u001b[0;34m\u001b[0m\u001b[0;34m\u001b[0m\u001b[0m\n\u001b[0;32m--> 179\u001b[0;31m         \u001b[0;32mreturn\u001b[0m \u001b[0mtry_read\u001b[0m\u001b[0;34m(\u001b[0m\u001b[0mpath\u001b[0m\u001b[0;34m)\u001b[0m\u001b[0;34m\u001b[0m\u001b[0;34m\u001b[0m\u001b[0m\n\u001b[0m\u001b[1;32m    180\u001b[0m     \u001b[0;32mexcept\u001b[0m \u001b[0mException\u001b[0m\u001b[0;34m:\u001b[0m  \u001b[0;31m# noqa: E722\u001b[0m\u001b[0;34m\u001b[0m\u001b[0;34m\u001b[0m\u001b[0m\n",
      "\u001b[0;32m~/anaconda3/lib/python3.6/site-packages/pandas/io/pickle.py\u001b[0m in \u001b[0;36mtry_read\u001b[0;34m(path, encoding)\u001b[0m\n\u001b[1;32m    176\u001b[0m                 return read_wrapper(\n\u001b[0;32m--> 177\u001b[0;31m                     lambda f: pc.load(f, encoding=encoding, compat=True))\n\u001b[0m\u001b[1;32m    178\u001b[0m     \u001b[0;32mtry\u001b[0m\u001b[0;34m:\u001b[0m\u001b[0;34m\u001b[0m\u001b[0;34m\u001b[0m\u001b[0m\n",
      "\u001b[0;32m~/anaconda3/lib/python3.6/site-packages/pandas/io/pickle.py\u001b[0m in \u001b[0;36mread_wrapper\u001b[0;34m(func)\u001b[0m\n\u001b[1;32m    147\u001b[0m         \u001b[0;32mtry\u001b[0m\u001b[0;34m:\u001b[0m\u001b[0;34m\u001b[0m\u001b[0;34m\u001b[0m\u001b[0m\n\u001b[0;32m--> 148\u001b[0;31m             \u001b[0;32mreturn\u001b[0m \u001b[0mfunc\u001b[0m\u001b[0;34m(\u001b[0m\u001b[0mf\u001b[0m\u001b[0;34m)\u001b[0m\u001b[0;34m\u001b[0m\u001b[0;34m\u001b[0m\u001b[0m\n\u001b[0m\u001b[1;32m    149\u001b[0m         \u001b[0;32mfinally\u001b[0m\u001b[0;34m:\u001b[0m\u001b[0;34m\u001b[0m\u001b[0;34m\u001b[0m\u001b[0m\n",
      "\u001b[0;32m~/anaconda3/lib/python3.6/site-packages/pandas/io/pickle.py\u001b[0m in \u001b[0;36m<lambda>\u001b[0;34m(f)\u001b[0m\n\u001b[1;32m    176\u001b[0m                 return read_wrapper(\n\u001b[0;32m--> 177\u001b[0;31m                     lambda f: pc.load(f, encoding=encoding, compat=True))\n\u001b[0m\u001b[1;32m    178\u001b[0m     \u001b[0;32mtry\u001b[0m\u001b[0;34m:\u001b[0m\u001b[0;34m\u001b[0m\u001b[0;34m\u001b[0m\u001b[0m\n",
      "\u001b[0;32m~/anaconda3/lib/python3.6/site-packages/pandas/compat/pickle_compat.py\u001b[0m in \u001b[0;36mload\u001b[0;34m(fh, encoding, compat, is_verbose)\u001b[0m\n\u001b[1;32m    226\u001b[0m \u001b[0;34m\u001b[0m\u001b[0m\n\u001b[0;32m--> 227\u001b[0;31m         \u001b[0;32mreturn\u001b[0m \u001b[0mup\u001b[0m\u001b[0;34m.\u001b[0m\u001b[0mload\u001b[0m\u001b[0;34m(\u001b[0m\u001b[0;34m)\u001b[0m\u001b[0;34m\u001b[0m\u001b[0;34m\u001b[0m\u001b[0m\n\u001b[0m\u001b[1;32m    228\u001b[0m     \u001b[0;32mexcept\u001b[0m \u001b[0;34m(\u001b[0m\u001b[0mValueError\u001b[0m\u001b[0;34m,\u001b[0m \u001b[0mTypeError\u001b[0m\u001b[0;34m)\u001b[0m\u001b[0;34m:\u001b[0m\u001b[0;34m\u001b[0m\u001b[0;34m\u001b[0m\u001b[0m\n",
      "\u001b[0;32m~/anaconda3/lib/python3.6/pickle.py\u001b[0m in \u001b[0;36mload\u001b[0;34m(self)\u001b[0m\n\u001b[1;32m   1049\u001b[0m                 \u001b[0;32massert\u001b[0m \u001b[0misinstance\u001b[0m\u001b[0;34m(\u001b[0m\u001b[0mkey\u001b[0m\u001b[0;34m,\u001b[0m \u001b[0mbytes_types\u001b[0m\u001b[0;34m)\u001b[0m\u001b[0;34m\u001b[0m\u001b[0;34m\u001b[0m\u001b[0m\n\u001b[0;32m-> 1050\u001b[0;31m                 \u001b[0mdispatch\u001b[0m\u001b[0;34m[\u001b[0m\u001b[0mkey\u001b[0m\u001b[0;34m[\u001b[0m\u001b[0;36m0\u001b[0m\u001b[0;34m]\u001b[0m\u001b[0;34m]\u001b[0m\u001b[0;34m(\u001b[0m\u001b[0mself\u001b[0m\u001b[0;34m)\u001b[0m\u001b[0;34m\u001b[0m\u001b[0;34m\u001b[0m\u001b[0m\n\u001b[0m\u001b[1;32m   1051\u001b[0m         \u001b[0;32mexcept\u001b[0m \u001b[0m_Stop\u001b[0m \u001b[0;32mas\u001b[0m \u001b[0mstopinst\u001b[0m\u001b[0;34m:\u001b[0m\u001b[0;34m\u001b[0m\u001b[0;34m\u001b[0m\u001b[0m\n",
      "\u001b[0;32m~/anaconda3/lib/python3.6/pickle.py\u001b[0m in \u001b[0;36mload_binstring\u001b[0;34m(self)\u001b[0m\n\u001b[1;32m   1183\u001b[0m         \u001b[0mdata\u001b[0m \u001b[0;34m=\u001b[0m \u001b[0mself\u001b[0m\u001b[0;34m.\u001b[0m\u001b[0mread\u001b[0m\u001b[0;34m(\u001b[0m\u001b[0mlen\u001b[0m\u001b[0;34m)\u001b[0m\u001b[0;34m\u001b[0m\u001b[0;34m\u001b[0m\u001b[0m\n\u001b[0;32m-> 1184\u001b[0;31m         \u001b[0mself\u001b[0m\u001b[0;34m.\u001b[0m\u001b[0mappend\u001b[0m\u001b[0;34m(\u001b[0m\u001b[0mself\u001b[0m\u001b[0;34m.\u001b[0m\u001b[0m_decode_string\u001b[0m\u001b[0;34m(\u001b[0m\u001b[0mdata\u001b[0m\u001b[0;34m)\u001b[0m\u001b[0;34m)\u001b[0m\u001b[0;34m\u001b[0m\u001b[0;34m\u001b[0m\u001b[0m\n\u001b[0m\u001b[1;32m   1185\u001b[0m     \u001b[0mdispatch\u001b[0m\u001b[0;34m[\u001b[0m\u001b[0mBINSTRING\u001b[0m\u001b[0;34m[\u001b[0m\u001b[0;36m0\u001b[0m\u001b[0;34m]\u001b[0m\u001b[0;34m]\u001b[0m \u001b[0;34m=\u001b[0m \u001b[0mload_binstring\u001b[0m\u001b[0;34m\u001b[0m\u001b[0;34m\u001b[0m\u001b[0m\n",
      "\u001b[0;32m~/anaconda3/lib/python3.6/pickle.py\u001b[0m in \u001b[0;36m_decode_string\u001b[0;34m(self, value)\u001b[0m\n\u001b[1;32m   1165\u001b[0m         \u001b[0;32melse\u001b[0m\u001b[0;34m:\u001b[0m\u001b[0;34m\u001b[0m\u001b[0;34m\u001b[0m\u001b[0m\n\u001b[0;32m-> 1166\u001b[0;31m             \u001b[0;32mreturn\u001b[0m \u001b[0mvalue\u001b[0m\u001b[0;34m.\u001b[0m\u001b[0mdecode\u001b[0m\u001b[0;34m(\u001b[0m\u001b[0mself\u001b[0m\u001b[0;34m.\u001b[0m\u001b[0mencoding\u001b[0m\u001b[0;34m,\u001b[0m \u001b[0mself\u001b[0m\u001b[0;34m.\u001b[0m\u001b[0merrors\u001b[0m\u001b[0;34m)\u001b[0m\u001b[0;34m\u001b[0m\u001b[0;34m\u001b[0m\u001b[0m\n\u001b[0m\u001b[1;32m   1167\u001b[0m \u001b[0;34m\u001b[0m\u001b[0m\n",
      "\u001b[0;31mUnicodeDecodeError\u001b[0m: 'ascii' codec can't decode byte 0xdf in position 1: ordinal not in range(128)",
      "\nDuring handling of the above exception, another exception occurred:\n",
      "\u001b[0;31mModuleNotFoundError\u001b[0m                       Traceback (most recent call last)",
      "\u001b[0;32m~/anaconda3/lib/python3.6/site-packages/pandas/io/pickle.py\u001b[0m in \u001b[0;36mtry_read\u001b[0;34m(path, encoding)\u001b[0m\n\u001b[1;32m    165\u001b[0m                 \u001b[0mwarnings\u001b[0m\u001b[0;34m.\u001b[0m\u001b[0msimplefilter\u001b[0m\u001b[0;34m(\u001b[0m\u001b[0;34m\"ignore\"\u001b[0m\u001b[0;34m,\u001b[0m \u001b[0mWarning\u001b[0m\u001b[0;34m)\u001b[0m\u001b[0;34m\u001b[0m\u001b[0;34m\u001b[0m\u001b[0m\n\u001b[0;32m--> 166\u001b[0;31m                 \u001b[0;32mreturn\u001b[0m \u001b[0mread_wrapper\u001b[0m\u001b[0;34m(\u001b[0m\u001b[0;32mlambda\u001b[0m \u001b[0mf\u001b[0m\u001b[0;34m:\u001b[0m \u001b[0mpkl\u001b[0m\u001b[0;34m.\u001b[0m\u001b[0mload\u001b[0m\u001b[0;34m(\u001b[0m\u001b[0mf\u001b[0m\u001b[0;34m)\u001b[0m\u001b[0;34m)\u001b[0m\u001b[0;34m\u001b[0m\u001b[0;34m\u001b[0m\u001b[0m\n\u001b[0m\u001b[1;32m    167\u001b[0m         \u001b[0;32mexcept\u001b[0m \u001b[0mException\u001b[0m\u001b[0;34m:\u001b[0m  \u001b[0;31m# noqa: E722\u001b[0m\u001b[0;34m\u001b[0m\u001b[0;34m\u001b[0m\u001b[0m\n",
      "\u001b[0;32m~/anaconda3/lib/python3.6/site-packages/pandas/io/pickle.py\u001b[0m in \u001b[0;36mread_wrapper\u001b[0;34m(func)\u001b[0m\n\u001b[1;32m    147\u001b[0m         \u001b[0;32mtry\u001b[0m\u001b[0;34m:\u001b[0m\u001b[0;34m\u001b[0m\u001b[0;34m\u001b[0m\u001b[0m\n\u001b[0;32m--> 148\u001b[0;31m             \u001b[0;32mreturn\u001b[0m \u001b[0mfunc\u001b[0m\u001b[0;34m(\u001b[0m\u001b[0mf\u001b[0m\u001b[0;34m)\u001b[0m\u001b[0;34m\u001b[0m\u001b[0;34m\u001b[0m\u001b[0m\n\u001b[0m\u001b[1;32m    149\u001b[0m         \u001b[0;32mfinally\u001b[0m\u001b[0;34m:\u001b[0m\u001b[0;34m\u001b[0m\u001b[0;34m\u001b[0m\u001b[0m\n",
      "\u001b[0;32m~/anaconda3/lib/python3.6/site-packages/pandas/io/pickle.py\u001b[0m in \u001b[0;36m<lambda>\u001b[0;34m(f)\u001b[0m\n\u001b[1;32m    165\u001b[0m                 \u001b[0mwarnings\u001b[0m\u001b[0;34m.\u001b[0m\u001b[0msimplefilter\u001b[0m\u001b[0;34m(\u001b[0m\u001b[0;34m\"ignore\"\u001b[0m\u001b[0;34m,\u001b[0m \u001b[0mWarning\u001b[0m\u001b[0;34m)\u001b[0m\u001b[0;34m\u001b[0m\u001b[0;34m\u001b[0m\u001b[0m\n\u001b[0;32m--> 166\u001b[0;31m                 \u001b[0;32mreturn\u001b[0m \u001b[0mread_wrapper\u001b[0m\u001b[0;34m(\u001b[0m\u001b[0;32mlambda\u001b[0m \u001b[0mf\u001b[0m\u001b[0;34m:\u001b[0m \u001b[0mpkl\u001b[0m\u001b[0;34m.\u001b[0m\u001b[0mload\u001b[0m\u001b[0;34m(\u001b[0m\u001b[0mf\u001b[0m\u001b[0;34m)\u001b[0m\u001b[0;34m)\u001b[0m\u001b[0;34m\u001b[0m\u001b[0;34m\u001b[0m\u001b[0m\n\u001b[0m\u001b[1;32m    167\u001b[0m         \u001b[0;32mexcept\u001b[0m \u001b[0mException\u001b[0m\u001b[0;34m:\u001b[0m  \u001b[0;31m# noqa: E722\u001b[0m\u001b[0;34m\u001b[0m\u001b[0;34m\u001b[0m\u001b[0m\n",
      "\u001b[0;31mModuleNotFoundError\u001b[0m: No module named 'pandas.indexes'",
      "\nDuring handling of the above exception, another exception occurred:\n",
      "\u001b[0;31mKeyboardInterrupt\u001b[0m                         Traceback (most recent call last)",
      "\u001b[0;32m<ipython-input-50-845b2b6392eb>\u001b[0m in \u001b[0;36m<module>\u001b[0;34m()\u001b[0m\n\u001b[1;32m      8\u001b[0m     \u001b[0mprint\u001b[0m\u001b[0;34m(\u001b[0m\u001b[0;34m'Using VELA number'\u001b[0m\u001b[0;34m,\u001b[0m \u001b[0mVELA_numbers\u001b[0m\u001b[0;34m[\u001b[0m\u001b[0msimulation_index\u001b[0m\u001b[0;34m]\u001b[0m\u001b[0;34m)\u001b[0m\u001b[0;34m\u001b[0m\u001b[0;34m\u001b[0m\u001b[0m\n\u001b[1;32m      9\u001b[0m     \u001b[0;31m#first get the tomer data\u001b[0m\u001b[0;34m\u001b[0m\u001b[0;34m\u001b[0m\u001b[0;34m\u001b[0m\u001b[0m\n\u001b[0;32m---> 10\u001b[0;31m     \u001b[0mtomer\u001b[0m\u001b[0;34m.\u001b[0m\u001b[0mread_tomer\u001b[0m\u001b[0;34m(\u001b[0m\u001b[0mVELA_numbers\u001b[0m\u001b[0;34m[\u001b[0m\u001b[0msimulation_index\u001b[0m\u001b[0;34m]\u001b[0m\u001b[0;34m)\u001b[0m\u001b[0;34m\u001b[0m\u001b[0;34m\u001b[0m\u001b[0m\n\u001b[0m\u001b[1;32m     11\u001b[0m     \u001b[0mtomer_scales\u001b[0m \u001b[0;34m=\u001b[0m \u001b[0;34m[\u001b[0m\u001b[0mstr\u001b[0m\u001b[0;34m(\u001b[0m\u001b[0mscale\u001b[0m\u001b[0;34m)\u001b[0m\u001b[0;34m[\u001b[0m\u001b[0;36m2\u001b[0m\u001b[0;34m:\u001b[0m\u001b[0;36m5\u001b[0m\u001b[0;34m]\u001b[0m \u001b[0;32mfor\u001b[0m \u001b[0mscale\u001b[0m \u001b[0;32min\u001b[0m \u001b[0mtomer\u001b[0m\u001b[0;34m.\u001b[0m\u001b[0mtomer_list\u001b[0m\u001b[0;34m[\u001b[0m\u001b[0;34m'aexpn'\u001b[0m\u001b[0;34m]\u001b[0m\u001b[0;34m.\u001b[0m\u001b[0mtolist\u001b[0m\u001b[0;34m(\u001b[0m\u001b[0;34m)\u001b[0m\u001b[0;34m]\u001b[0m\u001b[0;34m\u001b[0m\u001b[0;34m\u001b[0m\u001b[0m\n\u001b[1;32m     12\u001b[0m     \u001b[0mr_vir_tomer\u001b[0m \u001b[0;34m=\u001b[0m \u001b[0mtomer\u001b[0m\u001b[0;34m.\u001b[0m\u001b[0mtomer_list\u001b[0m\u001b[0;34m[\u001b[0m\u001b[0;34m'r_vir[kpc]'\u001b[0m\u001b[0;34m]\u001b[0m\u001b[0;34m.\u001b[0m\u001b[0mtolist\u001b[0m\u001b[0;34m(\u001b[0m\u001b[0;34m)\u001b[0m\u001b[0;34m\u001b[0m\u001b[0;34m\u001b[0m\u001b[0m\n",
      "\u001b[0;32m~/anaconda3/lib/python3.6/site-packages/satellite_analysis/catalogreaders/tomercatalogreader.py\u001b[0m in \u001b[0;36mread_tomer\u001b[0;34m(galaxynumber)\u001b[0m\n\u001b[1;32m      8\u001b[0m     \u001b[0msim_cat\u001b[0m     \u001b[0;34m=\u001b[0m \u001b[0mpd\u001b[0m\u001b[0;34m.\u001b[0m\u001b[0mread_pickle\u001b[0m\u001b[0;34m(\u001b[0m\u001b[0mpath\u001b[0m \u001b[0;34m+\u001b[0m \u001b[0;34m'sim_table.pkl'\u001b[0m\u001b[0;34m)\u001b[0m\u001b[0;34m\u001b[0m\u001b[0;34m\u001b[0m\u001b[0m\n\u001b[1;32m      9\u001b[0m     \u001b[0msim_cat\u001b[0m\u001b[0;34m.\u001b[0m\u001b[0mset_index\u001b[0m\u001b[0;34m(\u001b[0m\u001b[0;34m[\u001b[0m\u001b[0;34m'sid'\u001b[0m\u001b[0;34m]\u001b[0m\u001b[0;34m,\u001b[0m \u001b[0minplace\u001b[0m\u001b[0;34m=\u001b[0m\u001b[0;32mTrue\u001b[0m\u001b[0;34m)\u001b[0m\u001b[0;34m\u001b[0m\u001b[0;34m\u001b[0m\u001b[0m\n\u001b[0;32m---> 10\u001b[0;31m     \u001b[0msgal_cat\u001b[0m    \u001b[0;34m=\u001b[0m \u001b[0mpd\u001b[0m\u001b[0;34m.\u001b[0m\u001b[0mread_pickle\u001b[0m\u001b[0;34m(\u001b[0m\u001b[0mpath\u001b[0m \u001b[0;34m+\u001b[0m \u001b[0;34m'sat_gal_table.pkl'\u001b[0m\u001b[0;34m)\u001b[0m\u001b[0;34m\u001b[0m\u001b[0;34m\u001b[0m\u001b[0m\n\u001b[0m\u001b[1;32m     11\u001b[0m     \u001b[0msgal_cat\u001b[0m\u001b[0;34m.\u001b[0m\u001b[0mset_index\u001b[0m\u001b[0;34m(\u001b[0m\u001b[0;34m[\u001b[0m\u001b[0;34m'sgal_id'\u001b[0m\u001b[0;34m]\u001b[0m\u001b[0;34m,\u001b[0m \u001b[0minplace\u001b[0m\u001b[0;34m=\u001b[0m\u001b[0;32mTrue\u001b[0m\u001b[0;34m)\u001b[0m\u001b[0;34m\u001b[0m\u001b[0;34m\u001b[0m\u001b[0m\n\u001b[1;32m     12\u001b[0m     \u001b[0muniq_cat\u001b[0m    \u001b[0;34m=\u001b[0m \u001b[0mpd\u001b[0m\u001b[0;34m.\u001b[0m\u001b[0mread_pickle\u001b[0m\u001b[0;34m(\u001b[0m\u001b[0mpath\u001b[0m \u001b[0;34m+\u001b[0m \u001b[0;34m'tgal_tmp_thick_table.pkl'\u001b[0m\u001b[0;34m)\u001b[0m\u001b[0;34m\u001b[0m\u001b[0;34m\u001b[0m\u001b[0m\n",
      "\u001b[0;32m~/anaconda3/lib/python3.6/site-packages/pandas/io/pickle.py\u001b[0m in \u001b[0;36mread_pickle\u001b[0;34m(path, compression)\u001b[0m\n\u001b[1;32m    180\u001b[0m     \u001b[0;32mexcept\u001b[0m \u001b[0mException\u001b[0m\u001b[0;34m:\u001b[0m  \u001b[0;31m# noqa: E722\u001b[0m\u001b[0;34m\u001b[0m\u001b[0;34m\u001b[0m\u001b[0m\n\u001b[1;32m    181\u001b[0m         \u001b[0;32mif\u001b[0m \u001b[0mPY3\u001b[0m\u001b[0;34m:\u001b[0m\u001b[0;34m\u001b[0m\u001b[0;34m\u001b[0m\u001b[0m\n\u001b[0;32m--> 182\u001b[0;31m             \u001b[0;32mreturn\u001b[0m \u001b[0mtry_read\u001b[0m\u001b[0;34m(\u001b[0m\u001b[0mpath\u001b[0m\u001b[0;34m,\u001b[0m \u001b[0mencoding\u001b[0m\u001b[0;34m=\u001b[0m\u001b[0;34m'latin1'\u001b[0m\u001b[0;34m)\u001b[0m\u001b[0;34m\u001b[0m\u001b[0;34m\u001b[0m\u001b[0m\n\u001b[0m\u001b[1;32m    183\u001b[0m         \u001b[0;32mraise\u001b[0m\u001b[0;34m\u001b[0m\u001b[0;34m\u001b[0m\u001b[0m\n\u001b[1;32m    184\u001b[0m \u001b[0;34m\u001b[0m\u001b[0m\n",
      "\u001b[0;32m~/anaconda3/lib/python3.6/site-packages/pandas/io/pickle.py\u001b[0m in \u001b[0;36mtry_read\u001b[0;34m(path, encoding)\u001b[0m\n\u001b[1;32m    171\u001b[0m             \u001b[0;32mtry\u001b[0m\u001b[0;34m:\u001b[0m\u001b[0;34m\u001b[0m\u001b[0;34m\u001b[0m\u001b[0m\n\u001b[1;32m    172\u001b[0m                 return read_wrapper(\n\u001b[0;32m--> 173\u001b[0;31m                     lambda f: pc.load(f, encoding=encoding, compat=False))\n\u001b[0m\u001b[1;32m    174\u001b[0m             \u001b[0;31m# compat pickle\u001b[0m\u001b[0;34m\u001b[0m\u001b[0;34m\u001b[0m\u001b[0;34m\u001b[0m\u001b[0m\n\u001b[1;32m    175\u001b[0m             \u001b[0;32mexcept\u001b[0m \u001b[0mException\u001b[0m\u001b[0;34m:\u001b[0m  \u001b[0;31m# noqa: E722\u001b[0m\u001b[0;34m\u001b[0m\u001b[0;34m\u001b[0m\u001b[0m\n",
      "\u001b[0;32m~/anaconda3/lib/python3.6/site-packages/pandas/io/pickle.py\u001b[0m in \u001b[0;36mread_wrapper\u001b[0;34m(func)\u001b[0m\n\u001b[1;32m    146\u001b[0m                             is_text=False)\n\u001b[1;32m    147\u001b[0m         \u001b[0;32mtry\u001b[0m\u001b[0;34m:\u001b[0m\u001b[0;34m\u001b[0m\u001b[0;34m\u001b[0m\u001b[0m\n\u001b[0;32m--> 148\u001b[0;31m             \u001b[0;32mreturn\u001b[0m \u001b[0mfunc\u001b[0m\u001b[0;34m(\u001b[0m\u001b[0mf\u001b[0m\u001b[0;34m)\u001b[0m\u001b[0;34m\u001b[0m\u001b[0;34m\u001b[0m\u001b[0m\n\u001b[0m\u001b[1;32m    149\u001b[0m         \u001b[0;32mfinally\u001b[0m\u001b[0;34m:\u001b[0m\u001b[0;34m\u001b[0m\u001b[0;34m\u001b[0m\u001b[0m\n\u001b[1;32m    150\u001b[0m             \u001b[0;32mfor\u001b[0m \u001b[0m_f\u001b[0m \u001b[0;32min\u001b[0m \u001b[0mfh\u001b[0m\u001b[0;34m:\u001b[0m\u001b[0;34m\u001b[0m\u001b[0;34m\u001b[0m\u001b[0m\n",
      "\u001b[0;32m~/anaconda3/lib/python3.6/site-packages/pandas/io/pickle.py\u001b[0m in \u001b[0;36m<lambda>\u001b[0;34m(f)\u001b[0m\n\u001b[1;32m    171\u001b[0m             \u001b[0;32mtry\u001b[0m\u001b[0;34m:\u001b[0m\u001b[0;34m\u001b[0m\u001b[0;34m\u001b[0m\u001b[0m\n\u001b[1;32m    172\u001b[0m                 return read_wrapper(\n\u001b[0;32m--> 173\u001b[0;31m                     lambda f: pc.load(f, encoding=encoding, compat=False))\n\u001b[0m\u001b[1;32m    174\u001b[0m             \u001b[0;31m# compat pickle\u001b[0m\u001b[0;34m\u001b[0m\u001b[0;34m\u001b[0m\u001b[0;34m\u001b[0m\u001b[0m\n\u001b[1;32m    175\u001b[0m             \u001b[0;32mexcept\u001b[0m \u001b[0mException\u001b[0m\u001b[0;34m:\u001b[0m  \u001b[0;31m# noqa: E722\u001b[0m\u001b[0;34m\u001b[0m\u001b[0;34m\u001b[0m\u001b[0m\n",
      "\u001b[0;32m~/anaconda3/lib/python3.6/site-packages/pandas/compat/pickle_compat.py\u001b[0m in \u001b[0;36mload\u001b[0;34m(fh, encoding, compat, is_verbose)\u001b[0m\n\u001b[1;32m    225\u001b[0m         \u001b[0mup\u001b[0m\u001b[0;34m.\u001b[0m\u001b[0mis_verbose\u001b[0m \u001b[0;34m=\u001b[0m \u001b[0mis_verbose\u001b[0m\u001b[0;34m\u001b[0m\u001b[0;34m\u001b[0m\u001b[0m\n\u001b[1;32m    226\u001b[0m \u001b[0;34m\u001b[0m\u001b[0m\n\u001b[0;32m--> 227\u001b[0;31m         \u001b[0;32mreturn\u001b[0m \u001b[0mup\u001b[0m\u001b[0;34m.\u001b[0m\u001b[0mload\u001b[0m\u001b[0;34m(\u001b[0m\u001b[0;34m)\u001b[0m\u001b[0;34m\u001b[0m\u001b[0;34m\u001b[0m\u001b[0m\n\u001b[0m\u001b[1;32m    228\u001b[0m     \u001b[0;32mexcept\u001b[0m \u001b[0;34m(\u001b[0m\u001b[0mValueError\u001b[0m\u001b[0;34m,\u001b[0m \u001b[0mTypeError\u001b[0m\u001b[0;34m)\u001b[0m\u001b[0;34m:\u001b[0m\u001b[0;34m\u001b[0m\u001b[0;34m\u001b[0m\u001b[0m\n\u001b[1;32m    229\u001b[0m         \u001b[0;32mraise\u001b[0m\u001b[0;34m\u001b[0m\u001b[0;34m\u001b[0m\u001b[0m\n",
      "\u001b[0;32m~/anaconda3/lib/python3.6/pickle.py\u001b[0m in \u001b[0;36mload\u001b[0;34m(self)\u001b[0m\n\u001b[1;32m   1044\u001b[0m         \u001b[0;32mtry\u001b[0m\u001b[0;34m:\u001b[0m\u001b[0;34m\u001b[0m\u001b[0;34m\u001b[0m\u001b[0m\n\u001b[1;32m   1045\u001b[0m             \u001b[0;32mwhile\u001b[0m \u001b[0;32mTrue\u001b[0m\u001b[0;34m:\u001b[0m\u001b[0;34m\u001b[0m\u001b[0;34m\u001b[0m\u001b[0m\n\u001b[0;32m-> 1046\u001b[0;31m                 \u001b[0mkey\u001b[0m \u001b[0;34m=\u001b[0m \u001b[0mread\u001b[0m\u001b[0;34m(\u001b[0m\u001b[0;36m1\u001b[0m\u001b[0;34m)\u001b[0m\u001b[0;34m\u001b[0m\u001b[0;34m\u001b[0m\u001b[0m\n\u001b[0m\u001b[1;32m   1047\u001b[0m                 \u001b[0;32mif\u001b[0m \u001b[0;32mnot\u001b[0m \u001b[0mkey\u001b[0m\u001b[0;34m:\u001b[0m\u001b[0;34m\u001b[0m\u001b[0;34m\u001b[0m\u001b[0m\n\u001b[1;32m   1048\u001b[0m                     \u001b[0;32mraise\u001b[0m \u001b[0mEOFError\u001b[0m\u001b[0;34m\u001b[0m\u001b[0;34m\u001b[0m\u001b[0m\n",
      "\u001b[0;32m~/anaconda3/lib/python3.6/pickle.py\u001b[0m in \u001b[0;36mread\u001b[0;34m(self, n)\u001b[0m\n\u001b[1;32m    236\u001b[0m             \u001b[0;32mreturn\u001b[0m \u001b[0mdata\u001b[0m\u001b[0;34m\u001b[0m\u001b[0;34m\u001b[0m\u001b[0m\n\u001b[1;32m    237\u001b[0m         \u001b[0;32melse\u001b[0m\u001b[0;34m:\u001b[0m\u001b[0;34m\u001b[0m\u001b[0;34m\u001b[0m\u001b[0m\n\u001b[0;32m--> 238\u001b[0;31m             \u001b[0;32mreturn\u001b[0m \u001b[0mself\u001b[0m\u001b[0;34m.\u001b[0m\u001b[0mfile_read\u001b[0m\u001b[0;34m(\u001b[0m\u001b[0mn\u001b[0m\u001b[0;34m)\u001b[0m\u001b[0;34m\u001b[0m\u001b[0;34m\u001b[0m\u001b[0m\n\u001b[0m\u001b[1;32m    239\u001b[0m \u001b[0;34m\u001b[0m\u001b[0m\n\u001b[1;32m    240\u001b[0m     \u001b[0;32mdef\u001b[0m \u001b[0mreadline\u001b[0m\u001b[0;34m(\u001b[0m\u001b[0mself\u001b[0m\u001b[0;34m)\u001b[0m\u001b[0;34m:\u001b[0m\u001b[0;34m\u001b[0m\u001b[0;34m\u001b[0m\u001b[0m\n",
      "\u001b[0;31mKeyboardInterrupt\u001b[0m: "
     ]
    }
   ],
   "source": [
    "input_dirs = glob.glob('/Users/user1/documents/GEN3/VELA*/hlists')\n",
    "input_dirs.sort()\n",
    "\n",
    "VELA_numbers = ['06', '07', '08', '09', '10', '11', '12', '13', '14', '15']\n",
    "\n",
    "for simulation_index in range(len(input_dirs)):\n",
    "    print('Finding Values for directory', input_dirs[simulation_index])\n",
    "    print('Using VELA number', VELA_numbers[simulation_index])\n",
    "    #first get the tomer data\n",
    "    tomer.read_tomer(VELA_numbers[simulation_index])\n",
    "    tomer_scales = [str(scale)[2:5] for scale in tomer.tomer_list['aexpn'].tolist()]\n",
    "    r_vir_tomer = tomer.tomer_list['r_vir[kpc]'].tolist()\n",
    "    \n",
    "    #now get the rockstar data\n",
    "    consistent.consistent_catalog_reader(input_dirs[simulation_index], subhalos='True')\n",
    "    \n",
    "    #now loop over each consistent catalog entry, checking to see if there is a corresponding tomer scale for each\n",
    "    #consistent file index\n",
    "    for index in consistent.snapshot_index:\n",
    "        scale_check = consistent.consistent_file_index[index]\n",
    "        tomer_number = [pos for pos, number in enumerate(tomer_scales) if number == scale_check]\n",
    "        if tomer_number == [] or len(tomer_number) > 1:\n",
    "            print('Could not find corresponding Tomer Snapshot Data for snap', scale_check)\n",
    "        else:\n",
    "            print('Success')\n",
    "            tomer_rvir = r_vir_tomer[tomer_number[0]]\n",
    "            consistent_rvir = float(consistent.halo_data_largest[index][0][0][11])\n",
    "            print('tomer', tomer_rvir)\n",
    "            print('consistent', consistent_rvir)\n",
    "            print(float(scale_check)/1000)\n",
    "            print(tomer_rvir, consistent_rvir*(float(scale_check)/1000)/1.43)"
   ]
  },
  {
   "cell_type": "code",
   "execution_count": null,
   "metadata": {},
   "outputs": [],
   "source": [
    "print(consistent.halo_data_largest[0][0])"
   ]
  },
  {
   "cell_type": "code",
   "execution_count": null,
   "metadata": {
    "collapsed": true
   },
   "outputs": [],
   "source": []
  }
 ],
 "metadata": {
  "kernelspec": {
   "display_name": "Python 3",
   "language": "python",
   "name": "python3"
  },
  "language_info": {
   "codemirror_mode": {
    "name": "ipython",
    "version": 3
   },
   "file_extension": ".py",
   "mimetype": "text/x-python",
   "name": "python",
   "nbconvert_exporter": "python",
   "pygments_lexer": "ipython3",
   "version": "3.6.8"
  }
 },
 "nbformat": 4,
 "nbformat_minor": 2
}
