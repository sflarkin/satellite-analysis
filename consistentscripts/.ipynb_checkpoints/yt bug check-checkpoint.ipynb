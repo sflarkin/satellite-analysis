{
 "cells": [
  {
   "cell_type": "code",
   "execution_count": 18,
   "metadata": {},
   "outputs": [
    {
     "name": "stdout",
     "output_type": "stream",
     "text": [
      "critical_density: 7.382015665286875e-29 g/cm**3\n",
      "critical_density.in_units('Msun*h**2/kpc**3'): 2225.990463350825 Msun*h**2/kpc**3\n",
      "density: 377568.3666602016 Msun*h**2/kpc**3\n",
      "\n",
      "Normal division, no unit conversion: 346.15947361325 dimensionless\n",
      "Normal division, unit conversion to be same as density: 346.15947361325004 dimensionless\n",
      "\n",
      "Now I compare this to the division of just their floats, or with the units removed.\n",
      "Division of their floats: 169.61814207049247\n",
      "\n",
      "There is a factor of .7**2 diference between them, shown below.\n",
      "169.61814207049247 dimensionless\n",
      "This seems wrong to me, as the units divided are the same, so they should cancel out, yet the h**2 seems to remain.\n"
     ]
    }
   ],
   "source": [
    "from yt.utilities.cosmology import Cosmology\n",
    "co = Cosmology(hubble_constant = .70)\n",
    "from yt.units.yt_array import YTQuantity\n",
    "import numpy as np\n",
    "\n",
    "z = 2\n",
    "a = 1/3\n",
    "\n",
    "critical_density = co.critical_density(z)\n",
    "print('critical_density: {}'.format(critical_density))\n",
    "print(\"critical_density.in_units('Msun*h**2/kpc**3'): {}\".format(critical_density.in_units('Msun*h**2/kpc**3')))\n",
    "\n",
    "#units we want to convert\n",
    "Mvir = YTQuantity(1279000000000.0, 'Msun/h')\n",
    "Rvir_comoving = YTQuantity(279.501, 'kpc/h')\n",
    "#these Rvirs are in comoving distance, so we multiple by a to convert to proper\n",
    "Rvir_proper = Rvir_comoving*a\n",
    "\n",
    "volume = (4/3)*np.pi*(Rvir_proper**3)\n",
    "density = Mvir/volume\n",
    "print('density: {}'.format(density))\n",
    "print('')\n",
    "\n",
    "\n",
    "print('Normal division, no unit conversion: {}'.format(density/critical_density))\n",
    "print('Normal division, unit conversion to be same as density: {}'.format(density/(critical_density.in_units('Msun*h**2/kpc**3'))))\n",
    "print('')\n",
    "print('Now I compare this to the division of just their floats, or with the units removed.')\n",
    "print('Division of their floats: {}'.format(float(density)/float(critical_density.in_units('Msun*h**2/kpc**3'))))\n",
    "print('')\n",
    "print('There is a factor of .7**2 diference between them, shown below.')\n",
    "print(density/critical_density*(.7**2))\n",
    "print('This seems wrong to me, as the units divided are the same, so they should cancel out, yet the h**2 seems to remain.')\n",
    "\n",
    "\n"
   ]
  },
  {
   "cell_type": "code",
   "execution_count": null,
   "metadata": {
    "collapsed": true
   },
   "outputs": [],
   "source": []
  }
 ],
 "metadata": {
  "kernelspec": {
   "display_name": "Python 3",
   "language": "python",
   "name": "python3"
  },
  "language_info": {
   "codemirror_mode": {
    "name": "ipython",
    "version": 3
   },
   "file_extension": ".py",
   "mimetype": "text/x-python",
   "name": "python",
   "nbconvert_exporter": "python",
   "pygments_lexer": "ipython3",
   "version": "3.6.8"
  }
 },
 "nbformat": 4,
 "nbformat_minor": 2
}
