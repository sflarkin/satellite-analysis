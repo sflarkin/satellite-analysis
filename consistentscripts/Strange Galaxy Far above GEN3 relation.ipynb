{
 "cells": [
  {
   "cell_type": "code",
   "execution_count": 28,
   "metadata": {},
   "outputs": [
    {
     "name": "stdout",
     "output_type": "stream",
     "text": [
      "Trying file: /Users/user1/documents/GEN3/rockstarcomoving001/stellarmassrelation/VELA06/halomass500.ascii\n",
      "No file: /Users/user1/documents/GEN3/rockstarcomoving001/stellarmassrelation/VELA06/halomass500.ascii\n",
      "Trying file: /Users/user1/documents/GEN3/rockstarcomoving001/stellarmassrelation/VELA07/halomass500.ascii\n",
      "Trying file: /Users/user1/documents/GEN3/rockstarcomoving001/stellarmassrelation/VELA08/halomass500.ascii\n",
      "Trying file: /Users/user1/documents/GEN3/rockstarcomoving001/stellarmassrelation/VELA09/halomass500.ascii\n",
      "Here\n",
      "Trying file: /Users/user1/documents/GEN3/rockstarcomoving001/stellarmassrelation/VELA10/halomass500.ascii\n",
      "Trying file: /Users/user1/documents/GEN3/rockstarcomoving001/stellarmassrelation/VELA11/halomass500.ascii\n",
      "Trying file: /Users/user1/documents/GEN3/rockstarcomoving001/stellarmassrelation/VELA12/halomass500.ascii\n",
      "Trying file: /Users/user1/documents/GEN3/rockstarcomoving001/stellarmassrelation/VELA13/halomass500.ascii\n",
      "Trying file: /Users/user1/documents/GEN3/rockstarcomoving001/stellarmassrelation/VELA14/halomass500.ascii\n",
      "Trying file: /Users/user1/documents/GEN3/rockstarcomoving001/stellarmassrelation/VELA15/halomass500.ascii\n"
     ]
    }
   ],
   "source": [
    "from satellite_analysis.graphs import massrelation as massrelation\n",
    "from satellite_analysis.massrelations import stellarmass_relations\n",
    "import yt\n",
    "import glob\n",
    "import numpy as np\n",
    "\n",
    "halomass_dirs = glob.glob('/Users/user1/documents/GEN3/rockstarcomoving001/stellarmassrelation/VELA*')\n",
    "\n",
    "central_ids, satellite_ids = [], []\n",
    "Mvir, Mpeak = [], []\n",
    "central_stellarmass010rvir, satellite_stellarmass010rvir, = [], []\n",
    "central_darkmattermass010rvir, satellite_darkmattermass010rvir, = [], []\n",
    "central_ratio010rvir, satellite_ratio010rvir = [], []\n",
    "central_stellarmass015rvir, satellite_stellarmass015rvir, = [], []\n",
    "central_darkmattermass015rvir, satellite_darkmattermass015rvir, = [], []\n",
    "central_ratio015rvir, satellite_ratio015rvir = [], []\n",
    "central_stellarmass020rvir, satellite_stellarmass020rvir, = [], []\n",
    "central_darkmattermass020rvir, satellite_darkmattermass020rvir, = [], []\n",
    "central_ratio020rvir, satellite_ratio020rvir = [], []\n",
    "central_stellarmassrvir, satellite_stellarmassrvir, = [], []\n",
    "central_darkmattermassrvir, satellite_darkmattermassrvir, = [], []\n",
    "central_ratiorvir, satellite_ratiorvir = [], []\n",
    "\n",
    "a = 500\n",
    "for halomass_dir in halomass_dirs:\n",
    "    print('Trying file: %s/halomass%s.ascii' % (halomass_dir, a))\n",
    "    try:\n",
    "        readfile = open('%s/halomass%s.ascii' % (halomass_dir, a))\n",
    "        lines = readfile.readlines()\n",
    "        halomass_lines = []\n",
    "        for line in lines:\n",
    "            halomass_lines.append(line.split())\n",
    "        del halomass_lines[0]\n",
    "        for data_lists in halomass_lines:\n",
    "            #filter out the satellites (pid =/= -1) from the central galaxies they orbit (pid = -1)\n",
    "            if float(data_lists[1]) == -1:\n",
    "                if float(data_lists[0]) == 681409.0:\n",
    "                    print('Here')\n",
    "                central_ids.append(float(data_lists[0]))\n",
    "                #need the Mvir for the centrals and the Mpeak for the satellites\n",
    "                Mvir.append(float(data_lists[2])*.7)\n",
    "                central_stellarmass010rvir.append(float(data_lists[4]))\n",
    "                central_darkmattermass010rvir.append(float(data_lists[5]))\n",
    "                central_ratio010rvir.append(float(data_lists[4])/float(data_lists[2]))\n",
    "                central_stellarmass015rvir.append(float(data_lists[6]))\n",
    "                central_darkmattermass015rvir.append(float(data_lists[7]))\n",
    "                central_ratio015rvir.append(float(data_lists[6])/float(data_lists[2]))\n",
    "                central_stellarmass020rvir.append(float(data_lists[8]))\n",
    "                central_darkmattermass020rvir.append(float(data_lists[9]))\n",
    "                central_ratio020rvir.append(float(data_lists[8])/float(data_lists[2]))\n",
    "                central_stellarmassrvir.append(float(data_lists[10]))\n",
    "                central_darkmattermassrvir.append(float(data_lists[11]))\n",
    "                central_ratiorvir.append(float(data_lists[10])/float(data_lists[2]))\n",
    "            else:\n",
    "                satellite_ids.append(float(data_lists[0]))\n",
    "                #need the Mvir for the centrals and the Mpeak for the satellites\n",
    "                Mpeak.append(float(data_lists[3]))\n",
    "                satellite_stellarmass010rvir.append(float(data_lists[4]))\n",
    "                satellite_darkmattermass010rvir.append(float(data_lists[5]))\n",
    "                satellite_ratio010rvir.append(float(data_lists[4])/float(data_lists[3]))\n",
    "                satellite_stellarmass015rvir.append(float(data_lists[6]))\n",
    "                satellite_darkmattermass015rvir.append(float(data_lists[7]))\n",
    "                satellite_ratio015rvir.append(float(data_lists[6])/float(data_lists[3]))\n",
    "                satellite_stellarmass020rvir.append(float(data_lists[8]))\n",
    "                satellite_darkmattermass020rvir.append(float(data_lists[9]))\n",
    "                satellite_ratio020rvir.append(float(data_lists[8])/float(data_lists[3]))\n",
    "                satellite_stellarmassrvir.append(float(data_lists[10]))\n",
    "                satellite_darkmattermassrvir.append(float(data_lists[11]))\n",
    "                satellite_ratiorvir.append(float(data_lists[10])/float(data_lists[3]))\n",
    "        readfile.close()\n",
    "    except FileNotFoundError:\n",
    "        print('No file: %s/halomass%s.ascii' % (halomass_dir, a))"
   ]
  },
  {
   "cell_type": "code",
   "execution_count": 24,
   "metadata": {
    "scrolled": false
   },
   "outputs": [
    {
     "name": "stdout",
     "output_type": "stream",
     "text": [
      "0.516860170271192\n",
      "521\n"
     ]
    }
   ],
   "source": [
    "listmax = np.amax(central_ratio010rvir)\n",
    "print(listmax)\n",
    "\n",
    "count = 0\n",
    "\n",
    "while count < len(central_ratio010rvir):\n",
    "    if central_ratio010rvir[count] == listmax:\n",
    "        print(count)\n",
    "    count = count + 1"
   ]
  },
  {
   "cell_type": "code",
   "execution_count": 25,
   "metadata": {},
   "outputs": [
    {
     "name": "stdout",
     "output_type": "stream",
     "text": [
      "0.516860170271192\n",
      "681409.0\n"
     ]
    }
   ],
   "source": [
    "print(central_ratio010rvir[521])\n",
    "print(central_ids[521])"
   ]
  },
  {
   "cell_type": "code",
   "execution_count": 29,
   "metadata": {},
   "outputs": [
    {
     "name": "stdout",
     "output_type": "stream",
     "text": [
      "Consistent File Indices: ['100', '110', '120', '130', '140', '150', '160', '170', '180', '190', '200', '210', '220', '230', '240', '250', '260', '270', '280', '290', '300', '310', '320', '330', '340', '350', '360', '370', '380', '390', '400', '410', '420', '430', '440', '450', '460', '470', '480', '490', '500', '510', '520', '530', '540', '550']\n",
      "\n",
      "Using Indices: [0, 1, 2, 3, 4, 5, 6, 7, 8, 9, 10, 11, 12, 13, 14, 15, 16, 17, 18, 19, 20, 21, 22, 23, 24, 25, 26, 27, 28, 29, 30, 31, 32, 33, 34, 35, 36, 37, 38, 39, 40, 41, 42, 43, 44, 45]\n",
      "\n",
      "Number of Halos found for snapshot 0 : 116\n",
      "Number of Halos found for snapshot 1 : 164\n",
      "Number of Halos found for snapshot 2 : 195\n",
      "Number of Halos found for snapshot 3 : 221\n",
      "Number of Halos found for snapshot 4 : 236\n",
      "Number of Halos found for snapshot 5 : 256\n",
      "Number of Halos found for snapshot 6 : 273\n",
      "Number of Halos found for snapshot 7 : 297\n",
      "Number of Halos found for snapshot 8 : 305\n",
      "Number of Halos found for snapshot 9 : 309\n",
      "Number of Halos found for snapshot 10 : 323\n",
      "Number of Halos found for snapshot 11 : 324\n",
      "Number of Halos found for snapshot 12 : 344\n",
      "Number of Halos found for snapshot 13 : 336\n",
      "Number of Halos found for snapshot 14 : 356\n",
      "Number of Halos found for snapshot 15 : 355\n",
      "Number of Halos found for snapshot 16 : 360\n",
      "Number of Halos found for snapshot 17 : 359\n",
      "Number of Halos found for snapshot 18 : 347\n",
      "Number of Halos found for snapshot 19 : 339\n",
      "Number of Halos found for snapshot 20 : 339\n",
      "Number of Halos found for snapshot 21 : 344\n",
      "Number of Halos found for snapshot 22 : 335\n",
      "Number of Halos found for snapshot 23 : 327\n",
      "Number of Halos found for snapshot 24 : 324\n",
      "Number of Halos found for snapshot 25 : 316\n",
      "Number of Halos found for snapshot 26 : 311\n",
      "Number of Halos found for snapshot 27 : 295\n",
      "Number of Halos found for snapshot 28 : 295\n",
      "Number of Halos found for snapshot 29 : 296\n",
      "Number of Halos found for snapshot 30 : 300\n",
      "Number of Halos found for snapshot 31 : 300\n",
      "Number of Halos found for snapshot 32 : 303\n",
      "Number of Halos found for snapshot 33 : 307\n",
      "Number of Halos found for snapshot 34 : 303\n",
      "Number of Halos found for snapshot 35 : 299\n",
      "Number of Halos found for snapshot 36 : 298\n",
      "Number of Halos found for snapshot 37 : 296\n",
      "Number of Halos found for snapshot 38 : 291\n",
      "Number of Halos found for snapshot 39 : 290\n",
      "Number of Halos found for snapshot 40 : 288\n",
      "Number of Halos found for snapshot 41 : 290\n",
      "Number of Halos found for snapshot 42 : 289\n",
      "Number of Halos found for snapshot 43 : 280\n",
      "Number of Halos found for snapshot 44 : 276\n",
      "Number of Halos found for snapshot 45 : 273\n"
     ]
    }
   ],
   "source": [
    "from satellite_analysis.catalogreaders import consistentcatalogreader as consistent\n",
    "\n",
    "consistent.consistent_catalog_reader('/Users/user1/documents/GEN3/rockstarcomoving001/VELA09/hlists', remove_subhalos='True')"
   ]
  },
  {
   "cell_type": "code",
   "execution_count": 32,
   "metadata": {},
   "outputs": [
    {
     "name": "stdout",
     "output_type": "stream",
     "text": [
      "500\n",
      "['0.50016', '681409', '0.51029', '690667', '2', '-1', '-1', '-1', '0', '4.45596e+11', '1.03700e+11', '116.942000', '1.566000', '216.240000', '1', '0.37059', '164.870000', '19.93840', '19.72179', '21.24704', '0.120', '18.960', '-85.450', '-2.072e+09', '-3.894e+09', '-2.420e+09', '0.00185', '24167', '24162', '725856', '3691', '40', '139598', '139597', '24202', '0.00000', '-1', '2.43702', '108870000000', '104040000000', '101580000000', '95416000000', '85317000000', '12.8118', '3.83', '0.00671', '0.77633', '0.7285', '0.30314', '-0.52115', '2.06786', '0.87736', '0.8296', '0.30185', '-0.52446', '1.77445', '1.0126', '233200000000', '64820000000', '17.253', '1.03700e+11', '4.44700e+11', '164.870000', '210.740000', '0.35039', '-3.650e+01', '-3.650e+01', '-1.274e+02', '-1.810e+02', '0.000e+00', '-1.658e-13', '-1.083e-11', '0.39020', '0.50016', '0.50016', '1.037e+11', '164.870', '210.740', '0.00000', '-0.10661', '-1.00000', '681409']\n"
     ]
    }
   ],
   "source": [
    "print(consistent.consistent_file_index[40])\n",
    "\n",
    "for halos in consistent.halo_data_sorted[40]:\n",
    "    if int(halos[1]) == 681409:\n",
    "        print(halos)"
   ]
  },
  {
   "cell_type": "code",
   "execution_count": null,
   "metadata": {},
   "outputs": [],
   "source": []
  }
 ],
 "metadata": {
  "kernelspec": {
   "display_name": "Python 3",
   "language": "python",
   "name": "python3"
  },
  "language_info": {
   "codemirror_mode": {
    "name": "ipython",
    "version": 3
   },
   "file_extension": ".py",
   "mimetype": "text/x-python",
   "name": "python",
   "nbconvert_exporter": "python",
   "pygments_lexer": "ipython3",
   "version": "3.7.3"
  }
 },
 "nbformat": 4,
 "nbformat_minor": 2
}
