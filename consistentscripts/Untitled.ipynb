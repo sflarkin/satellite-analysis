{
 "cells": [
  {
   "cell_type": "code",
   "execution_count": null,
   "metadata": {},
   "outputs": [],
   "source": [
    "from satellite_analysis.graphs import massrelation as massrelation\n",
    "import yt\n",
    "import glob\n",
    "import numpy as np\n",
    "\n",
    "#first find all of the halomass catalogs\n",
    "\n",
    "#add argparse and make the out_dir if it doesnt exits\n",
    "output_dir = \n",
    "halomass_dirs = glob.glob('/Users/user1/documents/GEN6/rockstarcomoving001/stellarmassrelation/VELA*')\n",
    "\n",
    "\n",
    "#now, find the earliest and latest snapshots for each catalog\n",
    "earliest_snap = []\n",
    "latest_snap = []\n",
    "for directory in halomass_dirs:\n",
    "    all_snaps = glob.glob('%s/*.ascii' % directory)\n",
    "    all_snaps.sort()\n",
    "    earliest_snap.append(all_snaps[0])\n",
    "    latest_snap.append(all_snaps[-1])\n",
    "\n",
    "earliest_snap = earliest_snap[0][-9:-6]\n",
    "latest_snap = latest_snap[-1][-9:-6]\n",
    "\n",
    "#now make the list of all possible snapshots from the earlies and latest snap\n",
    "a_list = [int(earliest_snap) + 10*x for x in range((int(latest_snap) - int(earliest_snap))//10 + 1)]\n",
    "\n",
    "#now now I set up a nested loop to iterate over each a in my a_list in each of my VELA_dir halomass folder\n",
    "for a in a_list:\n",
    "    print('Generating dataset for a: %s' % a)\n",
    "    \n",
    "    \n",
    "    \n",
    "    for halomass_dir in halomass_dirs:\n",
    "        print('Trying file: %s/halomass%s.ascii' % (halomass_dir, a))\n",
    "        try:\n",
    "            readfile = open('%s/halomass%s.ascii' % (halomass_dir, a))\n",
    "            lines = readfile.readlines()\n",
    "            halomass_lines = []\n",
    "            for line in lines:\n",
    "                halomass_lines.append(line.split())\n",
    "            del halomass_lines[0]\n",
    "            \n",
    "            largest_halo_mass = 0\n",
    "            \n",
    "            for data_lists in halomass_lines:\n",
    "                #filter out the satellites (pid =/= -1) from the central galaxies they orbit (pid = -1)\n",
    "                if float(data_lists[1]) == -1 and float(data_lists[2]) > largest_halo:\n",
    "                    \n",
    "                    \n",
    "            readfile.close()\n",
    "        except FileNotFoundError:\n",
    "            print('No file: %s/halomass%s.ascii' % (halomass_dir, a))\n",
    "            "
   ]
  }
 ],
 "metadata": {
  "kernelspec": {
   "display_name": "Python 3",
   "language": "python",
   "name": "python3"
  },
  "language_info": {
   "codemirror_mode": {
    "name": "ipython",
    "version": 3
   },
   "file_extension": ".py",
   "mimetype": "text/x-python",
   "name": "python",
   "nbconvert_exporter": "python",
   "pygments_lexer": "ipython3",
   "version": "3.7.3"
  }
 },
 "nbformat": 4,
 "nbformat_minor": 2
}
