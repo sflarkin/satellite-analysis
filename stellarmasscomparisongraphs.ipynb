{
 "cells": [
  {
   "cell_type": "code",
   "execution_count": 48,
   "metadata": {},
   "outputs": [
    {
     "name": "stdout",
     "output_type": "stream",
     "text": [
      "largest id for 250: 1975188\n",
      "largest id for 330: 2689380\n",
      "largest id for 400: 3144750\n",
      "largest id for 500: 3572034\n"
     ]
    }
   ],
   "source": [
    "print('largest id for 250:', consistent.halo_data_largest[14][0][0][1])\n",
    "print('largest id for 330:', consistent.halo_data_largest[22][0][0][1])\n",
    "print('largest id for 400:', consistent.halo_data_largest[29][0][0][1])\n",
    "print('largest id for 500:', consistent.halo_data_largest[39][0][0][1])"
   ]
  },
  {
   "cell_type": "code",
   "execution_count": 5,
   "metadata": {},
   "outputs": [
    {
     "name": "stdout",
     "output_type": "stream",
     "text": [
      "Consistent File Indices: ['100', '110', '120', '130', '140', '150', '160', '170', '180', '190', '210', '220', '230', '240', '250', '260', '270', '280', '290', '300', '310', '320', '330', '340', '350', '360', '370', '380', '390', '400', '410', '420', '430', '440', '450', '460', '470', '480', '490', '500', '510', '520', '530', '540']\n",
      "\n",
      "Using Indices: [0, 1, 2, 3, 4, 5, 6, 7, 8, 9, 10, 11, 12, 13, 14, 15, 16, 17, 18, 19, 20, 21, 22, 23, 24, 25, 26, 27, 28, 29, 30, 31, 32, 33, 34, 35, 36, 37, 38, 39, 40, 41, 42, 43]\n",
      "\n",
      "Number of Halos found for snapshot 0 : 3\n",
      "Number of Halos found for snapshot 1 : 6\n",
      "Number of Halos found for snapshot 2 : 34\n",
      "Number of Halos found for snapshot 3 : 52\n",
      "Number of Halos found for snapshot 4 : 79\n",
      "Number of Halos found for snapshot 5 : 104\n",
      "Number of Halos found for snapshot 6 : 244\n",
      "Number of Halos found for snapshot 7 : 142\n",
      "Number of Halos found for snapshot 8 : 153\n",
      "Number of Halos found for snapshot 9 : 172\n",
      "Number of Halos found for snapshot 10 : 444\n",
      "Number of Halos found for snapshot 11 : 245\n",
      "Number of Halos found for snapshot 12 : 259\n",
      "Number of Halos found for snapshot 13 : 297\n",
      "Number of Halos found for snapshot 14 : 350\n",
      "Number of Halos found for snapshot 15 : 329\n",
      "Number of Halos found for snapshot 16 : 296\n",
      "Number of Halos found for snapshot 17 : 291\n",
      "Number of Halos found for snapshot 18 : 357\n",
      "Number of Halos found for snapshot 19 : 316\n",
      "Number of Halos found for snapshot 20 : 330\n",
      "Number of Halos found for snapshot 21 : 304\n",
      "Number of Halos found for snapshot 22 : 275\n",
      "Number of Halos found for snapshot 23 : 280\n",
      "Number of Halos found for snapshot 24 : 289\n",
      "Number of Halos found for snapshot 25 : 287\n",
      "Number of Halos found for snapshot 26 : 291\n",
      "Number of Halos found for snapshot 27 : 287\n",
      "Number of Halos found for snapshot 28 : 291\n",
      "Number of Halos found for snapshot 29 : 295\n",
      "Number of Halos found for snapshot 30 : 299\n",
      "Number of Halos found for snapshot 31 : 285\n",
      "Number of Halos found for snapshot 32 : 270\n",
      "Number of Halos found for snapshot 33 : 288\n",
      "Number of Halos found for snapshot 34 : 268\n",
      "Number of Halos found for snapshot 35 : 273\n",
      "Number of Halos found for snapshot 36 : 279\n",
      "Number of Halos found for snapshot 37 : 274\n",
      "Number of Halos found for snapshot 38 : 277\n",
      "Number of Halos found for snapshot 39 : 283\n",
      "Number of Halos found for snapshot 40 : 293\n",
      "Number of Halos found for snapshot 41 : 299\n",
      "Number of Halos found for snapshot 42 : 304\n",
      "Number of Halos found for snapshot 43 : 307\n"
     ]
    }
   ],
   "source": [
    "from satellite_analysis.catalogreaders import consistentcatalogreader as consistent\n",
    "\n",
    "input_dir = '/Users/user1/documents/VELA07/hlists'\n",
    "consistent.consistent_catalog_reader(input_dir, subhalos=True)"
   ]
  },
  {
   "cell_type": "code",
   "execution_count": 10,
   "metadata": {},
   "outputs": [
    {
     "name": "stdout",
     "output_type": "stream",
     "text": [
      "[['82326', '0.0', '418948502.92476636', '0.0'], ['748', '0.0', '3170084420.2135515', '0.0'], ['53932', '124168.82437428745', '727818970.6917262', '0.0001706039954637019'], ['38850', '0.0', '674497193.7459037', '0.0'], ['93230', '0.0', '854370873.6177292', '0.0'], ['53765', '0.0', '1677365723.4649363', '0.0'], ['53644', '0.0', '149952944.7734053', '0.0'], ['53711', '0.0', '145470655.66333067', '0.0'], ['102467', '0.0', '218817204.737279', '0.0'], ['83641', '0.0', '112872189.40824263', '0.0'], ['53886', '0.0', '184705238.26320463', '0.0'], ['53926', '0.0', '382449863.0284445', '0.0'], ['54101', '0.0', '224987628.70699206', '0.0'], ['53374', '0.0', '225220474.89452842', '0.0'], ['93239', '0.0', '394150383.9521457', '0.0'], ['54041', '158009.1317593569', '1419604993.8622036', '0.00011130499853305978'], ['55476', '80400.21034707084', '656742671.9462575', '0.0001224226988461169'], ['55528', '0.0', '291174157.51419777', '0.0'], ['93330', '0.0', '103267284.17236844', '0.0'], ['57632', '0.0', '227083244.3948191', '0.0'], ['57622', '0.0', '140115193.3499948', '0.0'], ['56336', '0.0', '273710693.448972', '0.0'], ['10427', '0.0', '355148647.5398082', '0.0'], ['56327', '0.0', '239365880.78736132', '0.0'], ['91958', '0.0', '317835045.9871091', '0.0'], ['56318', '0.0', '759369629.1029007', '0.0'], ['21603', '276761.29070762685', '1049321344.1325328', '0.0002637526552330103'], ['56426', '0.0', '242742150.5066383', '0.0'], ['93469', '0.0', '283664867.96615076', '0.0'], ['100150', '0.0', '246467689.5072198', '0.0'], ['57822', '177054.6634617284', '798254942.4214704', '0.0002218021512333404'], ['57812', '0.0', '514299016.72089916', '0.0'], ['99286', '0.0', '178534814.29349154', '0.0'], ['99553', '0.0', '294899696.5147792', '0.0'], ['99593', '0.0', '343797395.89741147', '0.0'], ['99656', '0.0', '129578903.36397524', '0.0'], ['15766', '537982.3759771397', '1255099162.3677766', '0.0004286373476357216'], ['101796', '0.0', '295423600.4367361', '0.0'], ['94193', '79470.16934673973', '394383230.13968205', '0.00020150494055894087'], ['93833', '0.0', '221669570.53459924', '0.0'], ['93827', '0.0', '183832065.05994332', '0.0'], ['60755', '48505.08005193925', '1653731835.4299972', '2.9330680472343412e-05'], ['15878', '4968009.108405313', '7921078030.70511', '0.0006271885075677101'], ['60449', '0.0', '235756764.880548', '0.0'], ['60847', '10009.757359230487', '226210071.19155788', '4.42498307281557e-05'], ['62284', '11560.954691581206', '1732783116.0985856', '6.6718994340221015e-06'], ['60896', '0.0', '605400087.5944936', '0.0'], ['60638', '162424.7746170187', '1939143049.8026705', '8.376111016335141e-05'], ['60850', '68699.46325016147', '346300492.4134271', '0.0001983810729559846'], ['60874', '8500.019149888969', '288962118.73260254', '2.9415686689903628e-05'], ['60889', '0.0', '575595775.5898415', '0.0'], ['64166', '0.0', '344321299.8193681', '0.0'], ['10385', '0.0', '1299805630.3747547', '0.0'], ['96071', '0.0', '176555621.69943258', '0.0'], ['58898', '0.0', '232380495.16127107', '0.0'], ['58906', '0.0', '625599494.3632715', '0.0'], ['96152', '0.0', '140115193.3499948', '0.0'], ['64213', '0.0', '359572725.1029988', '0.0'], ['96369', '0.0', '943201694.1628443', '0.0'], ['64096', '0.0', '302408986.0628264', '0.0'], ['96440', '0.0', '466390913.6352965', '0.0'], ['96735', '0.0', '256829344.852587', '0.0'], ['96860', '0.0', '162759485.08790427', '0.0'], ['97017', '0.0', '260613095.4000526', '0.0'], ['64258', '0.0', '175274967.66798273', '0.0'], ['100093', '0.0', '438507582.6778193', '0.0'], ['100474', '0.0', '287565041.60738444', '0.0'], ['64278', '0.0', '321036681.06573385', '0.0'], ['64157', '0.0', '246118420.22591525', '0.0'], ['100245', '0.0', '204730010.3913302', '0.0'], ['100357', '0.0', '326275720.2853016', '0.0'], ['100707', '0.0', '177428794.90269387', '0.0'], ['100505', '0.0', '232729764.4425755', '0.0'], ['65670', '0.0', '109495919.68896563', '0.0'], ['99961', '217420.7962090879', '418832079.8309983', '0.0005191120897349093'], ['101126', '0.0', '237794169.02149102', '0.0'], ['65580', '0.0', '178185545.01218703', '0.0'], ['100369', '0.0', '139591289.428038', '0.0'], ['65587', '0.0', '198617797.9685012', '0.0'], ['68845', '0.0', '176846679.43385303', '0.0'], ['65654', '0.0', '431696831.6923812', '0.0'], ['101987', '0.0', '682355752.5752553', '0.0'], ['62450', '76289.21753561041', '486997801.2322629', '0.00015665207798181812'], ['63909', '0.0', '185229142.18516138', '0.0'], ['63936', '204467.87536639138', '1620551253.7060685', '0.0001261718041307179'], ['62493', '12962.09680015961', '348628954.2887906', '3.718020732558638e-05'], ['65554', '0.0', '188838258.09197474', '0.0'], ['101255', '0.0', '309045102.40761214', '0.0'], ['101259', '0.0', '531354999.95793635', '0.0'], ['32997', '0.0', '161245984.868918', '0.0'], ['33002', '0.0', '274234597.37092876', '0.0'], ['31745', '0.0', '719494719.4873021', '0.0'], ['89972', '0.0', '481525915.82515883', '0.0'], ['31709', '0.0', '324587585.4256632', '0.0'], ['39374', '0.0', '210784011.2672751', '0.0'], ['38937', '0.0', '198734221.06226936', '0.0'], ['31938', '0.0', '498640110.60908', '0.0'], ['31913', '0.0', '718388700.0965044', '0.0'], ['434', '26079861285.187244', '1132867720451.5369', '0.023021100181751467'], ['31850', '0.0', '548993098.6638144', '0.0'], ['79626', '0.0', '132489480.70817958', '0.0'], ['85662', '0.0', '170909101.65167627', '0.0'], ['1559', '5545938.717797121', '5719750173.736517', '0.0009696120546072992'], ['31887', '0.0', '207233106.9073459', '0.0'], ['79690', '0.0', '136913558.27137008', '0.0'], ['91118', '0.0', '394033960.85837764', '0.0'], ['91133', '0.0', '232671552.89569145', '0.0'], ['90936', '0.0', '136389654.34941328', '0.0'], ['90971', '0.0', '116655939.9557082', '0.0'], ['88420', '332073.3861560825', '1172555188.8861427', '0.00028320490950326383'], ['88399', '0.0', '288845695.63883436', '0.0'], ['33204', '0.0', '503413457.453575', '0.0'], ['89330', '0.0', '179757256.7780573', '0.0'], ['40061', '0.0', '185636623.01335004', '0.0'], ['88559', '1372996.249532331', '2076696935.0897655', '0.0006611442557327139'], ['41567', '0.0', '200189509.73437148', '0.0'], ['90691', '0.0', '975392679.5897439', '0.0'], ['83225', '0.0', '302758255.3441309', '0.0'], ['83252', '0.0', '210143684.2515502', '0.0'], ['85366', '0.0', '114502112.72099702', '0.0'], ['41870', '69235.40107169312', '755236609.2741308', '9.167378834857635e-05'], ['41868', '17403.132759410924', '516918536.33068305', '3.366707041102855e-05'], ['59953', '0.0', '241403284.92830437', '0.0'], ['62292', '8393.988233521037', '347813992.6324134', '2.4133555323612897e-05'], ['4795', '814215.9850140342', '7703192210.717978', '0.00010569851598421234'], ['36848', '0.0', '579088468.4028869', '0.0'], ['81339', '0.0', '911592824.2047857', '0.0'], ['80769', '0.0', '393044364.5613482', '0.0'], ['82995', '0.0', '1652800450.679852', '0.0'], ['43498', '0.0', '122826363.92542131', '0.0'], ['81930', '0.0', '670655231.651554', '0.0'], ['85460', '338612.9215146854', '2620450994.534013', '0.0001292193298867243'], ['32422', '0.0', '394557864.7803344', '0.0'], ['32388', '0.0', '179699045.23117322', '0.0'], ['15754', '104825747.58268112', '52434574759.7624', '0.001999172264921714'], ['60694', '0.0', '296122138.999345', '0.0'], ['60586', '0.0', '418482810.54969376', '0.0'], ['94137', '0.0', '121953190.72216003', '0.0'], ['81046', '0.0', '603188048.8128984', '0.0'], ['37691', '0.0', '1028889091.1762189', '0.0'], ['71110', '0.0', '482399089.0284201', '0.0'], ['60741', '0.0', '259623499.1030232', '0.0'], ['94368', '0.0', '194834047.42103562', '0.0'], ['61083', '0.0', '127948980.05122083', '0.0'], ['71166', '0.0', '154668080.0710163', '0.0'], ['36885', '0.0', '172771871.15196705', '0.0'], ['36913', '0.0', '142851136.05354682', '0.0'], ['46027', '0.0', '260205614.57186404', '0.0'], ['43559', '0.0', '213694588.61147946', '0.0'], ['71236', '10860.480657549499', '608077818.7511617', '1.786034669025452e-05'], ['37823', '0.0', '367023803.1041617', '0.0'], ['82124', '0.0', '818221503.0027119', '0.0'], ['42776', '0.0', '243091419.78794286', '0.0'], ['83044', '33785.08985315911', '1133087760.0987327', '2.981683417903589e-05'], ['79893', '9784.102286128349', '285120156.63825285', '3.431571587743606e-05'], ['90795', '0.0', '190992085.32668594', '0.0'], ['79837', '0.0', '502016380.32835704', '0.0'], ['46043', '0.0', '153445637.5864505', '0.0'], ['72888', '2272.353653270946', '1633881697.9425237', '1.390770002584901e-06'], ['71072', '0.0', '183482795.77863884', '0.0'], ['24595', '0.0', '698422139.515263', '0.0'], ['24679', '341955.8215294488', '1836516092.646027', '0.00018619810787324142'], ['7748', '0.0', '1653033296.8673882', '0.0'], ['71436', '0.0', '331165490.22356474', '0.0'], ['71333', '0.0', '707095660.0009918', '0.0'], ['94991', '0.0', '185985892.29465455', '0.0'], ['63150', '0.0', '198676009.51538527', '0.0'], ['72633', '0.0', '253162017.3988897', '0.0'], ['95040', '0.0', '1717589902.3618395', '0.0'], ['72637', '0.0', '519596267.48735094', '0.0'], ['95030', '0.0', '152805310.57072553', '0.0'], ['95636', '0.0', '313934872.3458754', '0.0'], ['71401', '0.0', '165146158.51015174', '0.0'], ['71319', '0.0', '108098842.56374757', '0.0'], ['24742', '14022369.989351712', '7757794641.695247', '0.001807520131299521'], ['72658', '0.0', '477858588.3714614', '0.0'], ['71387', '0.0', '985288642.5600384', '0.0'], ['94279', '0.0', '310849660.3610188', '0.0'], ['95502', '0.0', '269228404.33889747', '0.0'], ['71550', '0.0', '207931645.46995494', '0.0'], ['71767', '621593.042307773', '1503080352.0939827', '0.00041354611644135633'], ['8961', '2781584.462362676', '13969141328.867868', '0.00019912351066378036'], ['71862', '0.0', '232147648.97373468', '0.0'], ['95357', '679595.7451543121', '1559953033.399735', '0.00043565141424367935'], ['71827', '0.0', '177370583.3558098', '0.0'], ['95424', '54593.94864130015', '1284263147.3567038', '4.2509939457241705e-05'], ['71802', '0.0', '120206844.31563745', '0.0'], ['71798', '0.0', '226675763.56663054', '0.0'], ['45262', '0.0', '384137997.88808304', '0.0'], ['45300', '0.0', '636776111.365016', '0.0'], ['47439', '688101.1759797165', '3376327930.823868', '0.00020380164192517015'], ['85487', '0.0', '602605933.3440576', '0.0']]\n"
     ]
    }
   ],
   "source": [
    "stellar_file = '/Users/user1/documents/VELA07/halomass/halomass250.ascii'\n",
    "VELA_a = '250'\n",
    "readfile = open(stellar_file)\n",
    "lines = readfile.readlines()\n",
    "stellarcatalog = []\n",
    "for line in lines:\n",
    "    stellarcatalog.append(line.split())\n",
    "stellarcatalog_index = stellarcatalog[0]\n",
    "del stellarcatalog[0:1]\n",
    "readfile.close()\n",
    "print(stellarcatalog)"
   ]
  },
  {
   "cell_type": "code",
   "execution_count": 46,
   "metadata": {},
   "outputs": [
    {
     "name": "stdout",
     "output_type": "stream",
     "text": [
      "153\n",
      "192\n"
     ]
    },
    {
     "name": "stderr",
     "output_type": "stream",
     "text": [
      "/Users/user1/anaconda3/lib/python3.6/site-packages/ipykernel_launcher.py:32: RuntimeWarning: divide by zero encountered in log10\n"
     ]
    },
    {
     "data": {
      "image/png": "[encoded data removed]",
      "text/plain": [
       "<matplotlib.figure.Figure at 0x11eb45278>"
      ]
     },
     "metadata": {},
     "output_type": "display_data"
    }
   ],
   "source": [
    "import numpy as np\n",
    "import math\n",
    "import matplotlib.pyplot as plt\n",
    "\n",
    "stellar_mass, darkmatter_mass, ratio = [], [], []\n",
    "count = 0\n",
    "for halo in stellarcatalog:\n",
    "    if halo[1] == '0.0':\n",
    "        count = count + 1\n",
    "    stellar_mass.append(float(halo[1]))\n",
    "    darkmatter_mass.append(float(halo[2]))\n",
    "    ratio.append(float(halo[3]))\n",
    "print(count)\n",
    "print(len(stellarcatalog))\n",
    "\n",
    "paper_mvir = [11.6, 12,12.5, 13]\n",
    "\n",
    "paper_mstar = [9.5,10,10.5, 10.7]\n",
    "\n",
    "plt.figure(figsize=(10,5))\n",
    "plt.subplot(1,2,1)\n",
    "plt.xlabel('Darkmatter Mass')\n",
    "plt.ylabel('Stellar Mass/Halo Mass Ratio')\n",
    "plt.xscale('log', nonposy='clip')\n",
    "plt.plot(darkmatter_mass, ratio, \"bo\")\n",
    "\n",
    "plt.subplot(1,2,2)\n",
    "plt.xlabel('Darkmatter Mass')\n",
    "plt.ylabel('Stellar Mass/Halo Mass Ratio')\n",
    "#plt.xscale('log', nonposy='clip')\n",
    "#plt.yscale('log', nonposy='clip')\n",
    "plt.plot(np.log10(darkmatter_mass), np.log10(stellar_mass), \"bo\")\n",
    "plt.plot(paper_mvir, paper_mstar)\n",
    "\n",
    "\n",
    "#plt.legend(('M_vir Rockstar', 'M_vir Rockstar Sum', 'M_vir(.1rvir) Tomer)', 'M_vir(.2rvir) Tomer)'))\n",
    "plt.show()\n"
   ]
  },
  {
   "cell_type": "code",
   "execution_count": 43,
   "metadata": {},
   "outputs": [
    {
     "name": "stdout",
     "output_type": "stream",
     "text": [
      "[0.0, 0.0, 0.0, 0.0, 0.0, 0.0, 0.0, 0.0, 0.0, 0.0, 0.0, 0.0, 0.0, 0.0, 0.0, 0.0, 0.0, 0.0, 0.0, 0.0, 0.0, 0.0, 0.0, 0.0, 0.0, 0.0, 0.0, 0.0, 0.0, 0.0, 0.0, 0.0, 0.0, 0.0, 0.0, 0.0, 0.0, 0.0, 0.0, 0.0, 0.0, 0.0, 0.0, 0.0, 0.0, 0.0, 0.0, 0.0, 0.0, 0.0, 0.0, 0.0, 0.0, 0.0, 0.0, 0.0, 0.0, 0.0, 0.0, 0.0, 0.0, 0.0, 0.0, 0.0, 0.0, 0.0, 0.0, 0.0, 0.0, 0.0, 0.0, 0.0, 0.0, 0.0, 0.0, 0.0, 0.0, 0.0, 0.0, 0.0, 0.0, 0.0, 0.0, 0.0, 0.0, 0.0, 0.0, 0.0, 0.0, 0.0, 0.0, 0.0, 0.0, 0.0, 0.0, 0.0, 0.0, 0.0, 0.0, 0.0, 0.0, 0.0, 0.0, 0.0, 0.0, 0.0, 0.0, 0.0, 0.0, 0.0, 0.0, 0.0, 0.0, 0.0, 0.0, 0.0, 0.0, 0.0, 0.0, 0.0, 0.0, 0.0, 0.0, 0.0, 0.0, 0.0, 0.0, 0.0, 0.0, 0.0, 0.0, 0.0, 0.0, 0.0, 0.0, 0.0, 0.0, 0.0, 0.0, 0.0, 0.0, 0.0, 0.0, 0.0, 0.0, 0.0, 0.0, 0.0, 0.0, 0.0, 0.0, 0.0, 0.0, 2272.353653270946, 8393.988233521037, 8500.019149888969, 9784.102286128349, 10009.757359230487, 10860.480657549499, 11560.954691581206, 12962.09680015961, 17403.132759410924, 33785.08985315911, 48505.08005193925, 54593.94864130015, 68699.46325016147, 69235.40107169312, 76289.21753561041, 79470.16934673973, 80400.21034707084, 124168.82437428745, 158009.1317593569, 162424.7746170187, 177054.6634617284, 204467.87536639138, 217420.7962090879, 276761.29070762685, 332073.3861560825, 338612.9215146854, 341955.8215294488, 537982.3759771397, 621593.042307773, 679595.7451543121, 688101.1759797165, 814215.9850140342, 1372996.249532331, 2781584.462362676, 4968009.108405313, 5545938.717797121, 14022369.989351712, 104825747.58268112, 26079861285.187244]\n"
     ]
    }
   ],
   "source": [
    "stellar_mass.sort()\n",
    "print(stellar_mass)"
   ]
  },
  {
   "cell_type": "code",
   "execution_count": 45,
   "metadata": {},
   "outputs": [
    {
     "name": "stdout",
     "output_type": "stream",
     "text": [
      "226210071.19155788\n",
      "['60847', '10009.757359230487', '226210071.19155788', '4.42498307281557e-05']\n"
     ]
    }
   ],
   "source": [
    "small = 10000000000000000000000\n",
    "for halo in stellarcatalog:\n",
    "    if halo[1] != '0.0':\n",
    "        if float(halo[2]) < small:\n",
    "            small = float(halo[2])\n",
    "            list1 = halo\n",
    "print(small)\n",
    "print(list1)"
   ]
  },
  {
   "cell_type": "code",
   "execution_count": null,
   "metadata": {
    "collapsed": true
   },
   "outputs": [],
   "source": []
  }
 ],
 "metadata": {
  "kernelspec": {
   "display_name": "Python 3",
   "language": "python",
   "name": "python3"
  },
  "language_info": {
   "codemirror_mode": {
    "name": "ipython",
    "version": 3
   },
   "file_extension": ".py",
   "mimetype": "text/x-python",
   "name": "python",
   "nbconvert_exporter": "python",
   "pygments_lexer": "ipython3",
   "version": "3.6.8"
  }
 },
 "nbformat": 4,
 "nbformat_minor": 2
}
