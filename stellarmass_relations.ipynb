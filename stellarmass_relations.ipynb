{
 "cells": [
  {
   "cell_type": "code",
   "execution_count": 20,
   "metadata": {
    "collapsed": true
   },
   "outputs": [],
   "source": [
    "import numpy as np\n",
    "import matplotlib.pyplot as plt\n",
    "\n",
    "def BehrooziWechslerConroy2013(a, z, halomass):\n",
    "    nu = np.exp(-4*a**2)\n",
    "    \n",
    "    log10epsilon = (-1.777 + 0) + ((-0.006 + 0)*(a - 1) + (-0.0000 + 0)*z)*nu + (-0.119 + 0)*(a - 1)\n",
    "    log10epsilonplus = (-1.777 + 0.133) + ((-0.006 + 0.113)*(a - 1) + (-0.0000 + 0.003)*z)*nu + (-0.119 + 0.061)*(a - 1)\n",
    "    log10epsilonminus = (-1.777 - 0.146) + ((-0.006 - 0.361)*(a - 1) + (-0.0000 - 0.104)*z)*nu + (-0.119 - 0.012)*(a - 1)\n",
    "    \n",
    "    log10M1 = (11.514 + 0) + ((-1.793 + 0)*(a - 1) + (-0.251 + 0)*z)*nu\n",
    "    log10M1plus = (11.514 + 0.053) + ((-1.793 + 0.315)*(a - 1) + (-0.251 + 0.012)*z)*nu\n",
    "    log10M1minus = (11.514 - 0.009) + ((-1.793 - 0.330)*(a - 1) + (-0.251 - 0.125)*z)*nu\n",
    "    \n",
    "    alpha = (-1.412 + 0) + ((-0.731 + 0)*(a - 1))*nu\n",
    "    alphaplus = (-1.412 + 0.020) + ((-0.731 + 0.344)*(a - 1))*nu\n",
    "    alphaminus = (-1.412 - 0.105) + ((-0.731 - 0.296)*(a - 1))*nu\n",
    "    \n",
    "    delta = (3.508 + 0) + ((2.608 + 0)*(a - 1) + (-0.043 + 0)*z)*nu\n",
    "    deltaplus = (3.508 + 0.087) + ((2.608 + 2.446)*(a - 1) + (-0.043 + 0.958)*z)*nu\n",
    "    deltaminus = (3.508 - 0.369) + ((2.608 - 1.261)*(a - 1) + (-0.043 - 0.071)*z)*nu\n",
    "    \n",
    "    gamma = (0.316 + 0) + ((1.319 + 0)*(a - 1) + (0.279 + 0)*z)*nu\n",
    "    gammaplus = (0.316 + 0.076) + ((1.319 + 0.584)*(a - 1) + (0.279 + 0.256)*z)*nu\n",
    "    gammaminus = (0.316 - 0.012) + ((1.319 - 0.505)*(a - 1) + (0.279 - 0.081)*z)*nu\n",
    "    \n",
    "    def f(x):\n",
    "        return(-np.log10(10**(alpha*x) + 1) + delta*(np.log10(1 + np.exp(x)))**gamma / (1 + np.exp(10**-x)))\n",
    "        \n",
    "    def fplus(x):\n",
    "        return(-np.log10(10**(alphaplus*x) + 1) + deltaplus*(np.log10(1 + np.exp(x)))**gammaplus / (1 + np.exp(10**-x)))\n",
    "        \n",
    "    def fminus(x):\n",
    "        return(-np.log10(10**(alphaminus*x) + 1) + deltaminus*(np.log10(1 + np.exp(x)))**gammaminus / (1 + np.exp(10**-x)))\n",
    "        \n",
    "    log10stellarmass = (log10epsilon + log10M1) + f(np.log10(halomass) - log10M1) - f(0)\n",
    "    log10stellarmassplus = (log10epsilonplus + log10M1plus) + f(np.log10(halomass) - log10M1plus) - fplus(0)\n",
    "    log10stellarmassminus = (log10epsilonminus + log10M1minus) + f(np.log10(halomass) - log10M1minus) - fminus(0)\n",
    "                                                                                                      \n",
    "    #print(log10epsilon, log10epsilonplus, log10epsilonminus)\n",
    "    #print(log10M1, log10M1plus, log10M1minus)\n",
    "    #print(alpha, alphaplus, alphaminus)\n",
    "    #print(delta, deltaplus, deltaminus)\n",
    "    #print(gamma, gammaplus, gammaminus)\n",
    "    return([log10stellarmass, log10stellarmassplus, log10stellarmassminus, (10**log10stellarmass)/halomass, (10**log10stellarmassplus)/halomass, (10**log10stellarmassminus)/halomass])\n",
    "    \n",
    "    \n",
    "                                                                                                      \n",
    "def PueblaPrimack2017():\n",
    "    print('Nothing')"
   ]
  },
  {
   "cell_type": "code",
   "execution_count": 21,
   "metadata": {},
   "outputs": [
    {
     "name": "stderr",
     "output_type": "stream",
     "text": [
      "/Users/user1/anaconda3/lib/python3.6/site-packages/ipykernel_launcher.py:28: RuntimeWarning: overflow encountered in exp\n"
     ]
    },
    {
     "data": {
      "text/plain": [
       "[7.261026214252874, 7.291807654379224, 7.094446116381582]"
      ]
     },
     "execution_count": 21,
     "metadata": {},
     "output_type": "execute_result"
    }
   ],
   "source": [
    "BehrooziWechslerConroy2013(.25, 3, 10**9)"
   ]
  },
  {
   "cell_type": "code",
   "execution_count": 27,
   "metadata": {},
   "outputs": [
    {
     "name": "stderr",
     "output_type": "stream",
     "text": [
      "/Users/user1/anaconda3/lib/python3.6/site-packages/ipykernel_launcher.py:28: RuntimeWarning: overflow encountered in exp\n"
     ]
    },
    {
     "data": {
      "image/png": "[encoded data removed]",
      "text/plain": [
       "<matplotlib.figure.Figure at 0x10a4ea0f0>"
      ]
     },
     "metadata": {},
     "output_type": "display_data"
    }
   ],
   "source": [
    "x = np.linspace(10**8, 10**12, 1000)\n",
    "y = BehrooziWechslerConroy2013(.25, 3, x)[0]\n",
    "plt.xscale('log')\n",
    "plt.plot(x, y, 'k', color='#CC4F1B')\n",
    "plt.fill_between(x, BehrooziWechslerConroy2013(.25, 3, x)[2], BehrooziWechslerConroy2013(.25, 3, x)[1],\n",
    "    alpha=0.5, edgecolor='#CC4F1B', facecolor='#FF9848')\n",
    "plt.show()"
   ]
  },
  {
   "cell_type": "code",
   "execution_count": 22,
   "metadata": {},
   "outputs": [
    {
     "name": "stdout",
     "output_type": "stream",
     "text": [
      "[7.261026214252874, 7.291807654379224, 7.094446116381582]\n"
     ]
    },
    {
     "name": "stderr",
     "output_type": "stream",
     "text": [
      "/Users/user1/anaconda3/lib/python3.6/site-packages/ipykernel_launcher.py:28: RuntimeWarning: overflow encountered in exp\n"
     ]
    }
   ],
   "source": [
    "test = BehrooziWechslerConroy2013(.25, 3, 10**9)\n",
    "print(test)"
   ]
  },
  {
   "cell_type": "code",
   "execution_count": 23,
   "metadata": {},
   "outputs": [
    {
     "name": "stdout",
     "output_type": "stream",
     "text": [
      "[7.261026214252874, 7.291807654379224, 7.094446116381582]\n"
     ]
    }
   ],
   "source": [
    "print(test)"
   ]
  },
  {
   "cell_type": "code",
   "execution_count": null,
   "metadata": {
    "collapsed": true
   },
   "outputs": [],
   "source": []
  }
 ],
 "metadata": {
  "kernelspec": {
   "display_name": "Python 3",
   "language": "python",
   "name": "python3"
  },
  "language_info": {
   "codemirror_mode": {
    "name": "ipython",
    "version": 3
   },
   "file_extension": ".py",
   "mimetype": "text/x-python",
   "name": "python",
   "nbconvert_exporter": "python",
   "pygments_lexer": "ipython3",
   "version": "3.6.8"
  }
 },
 "nbformat": 4,
 "nbformat_minor": 2
}
